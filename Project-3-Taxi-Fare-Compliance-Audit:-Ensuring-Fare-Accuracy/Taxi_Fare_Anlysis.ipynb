{
 "cells": [
  {
   "cell_type": "markdown",
   "metadata": {},
   "source": [
    "<h1>Taxi Trip Fare Data 2023</h1>\n",
    "<p>A dataset of taxi trip details, including fare, distance, and payment type.</p>\n",
    "<h2>About Dataset</h2>\n",
    "<p>This dataset contains detailed information about taxi trips, including passenger count, trip distance, payment type, fare amount, and trip duration. It is useful for various data analysis and machine learning applications, such as fare prediction and ride pattern analysis.</p>\n",
    "<h2>Data Source</h2>\n",
    "<p><strong>Kaggle:</strong> <a href=\"https://www.kaggle.com/datasets/hrish4/taxi-trip-fare-data-2023\">taxi-trip-fare-data-2023</a></p>\n",
    "<h2>Pricing Policy</h2>\n",
    "The fare calculation in this project adheres to the official pricing policy provided by the fictional taxi company stakeholder:\n",
    "<table>\n",
    "<tr>\n",
    "<th>Component</th>\n",
    "<th>Rate</th>\n",
    "<th>Applied To</th>\n",
    "</tr>\n",
    "<tr>\n",
    "<td>Base Fare</td>\n",
    "<td>$3.00</td>\n",
    "<td>All trips(flat fee)</td>\n",
    "</tr>\n",
    "<tr>\n",
    "<td>Per-Mile Charge</td>\n",
    "<td>$2.50</td>\n",
    "<td>trip_distance(miles)</td>\n",
    "</tr>\n",
    "<tr>\n",
    "<td>Per-Minute Charge</td>\n",
    "<td>$0.50</td>\n",
    "<td>duration(minutes)</td>\n",
    "</tr>\n",
    "</table>\n",
    "<strong>Industry Reference:</strong>\n",
    "<p>Rates Align with NYC TLC's yellow taxi base fare ($3.00) and per-mile ($2.00) as of 2023 (<a href=\"https://www.nyc.gov/site/tlc/passengers/taxi-fare.page\">Source</a>)</p>"
   ]
  },
  {
   "cell_type": "code",
   "execution_count": 1,
   "metadata": {},
   "outputs": [],
   "source": [
    "import pandas as pd\n",
    "import numpy as np\n",
    "import warnings\n",
    "warnings.filterwarnings('ignore')"
   ]
  },
  {
   "cell_type": "markdown",
   "metadata": {},
   "source": [
    "<h3>I will skip data preprocessing because the name of the file already contains the word <strong>\"preprocessed\"</strong>, even though it doesn't explicity tell you that this stage of this file has been carried out.</h3>"
   ]
  },
  {
   "cell_type": "code",
   "execution_count": 2,
   "metadata": {},
   "outputs": [
    {
     "data": {
      "text/html": [
       "<div>\n",
       "<style scoped>\n",
       "    .dataframe tbody tr th:only-of-type {\n",
       "        vertical-align: middle;\n",
       "    }\n",
       "\n",
       "    .dataframe tbody tr th {\n",
       "        vertical-align: top;\n",
       "    }\n",
       "\n",
       "    .dataframe thead th {\n",
       "        text-align: right;\n",
       "    }\n",
       "</style>\n",
       "<table border=\"1\" class=\"dataframe\">\n",
       "  <thead>\n",
       "    <tr style=\"text-align: right;\">\n",
       "      <th></th>\n",
       "      <th>passenger_count</th>\n",
       "      <th>trip_distance</th>\n",
       "      <th>payment_type</th>\n",
       "      <th>fare_amount</th>\n",
       "      <th>duration</th>\n",
       "    </tr>\n",
       "  </thead>\n",
       "  <tbody>\n",
       "    <tr>\n",
       "      <th>0</th>\n",
       "      <td>1</td>\n",
       "      <td>3.70</td>\n",
       "      <td>Card</td>\n",
       "      <td>24.0</td>\n",
       "      <td>27.950000</td>\n",
       "    </tr>\n",
       "    <tr>\n",
       "      <th>1</th>\n",
       "      <td>1</td>\n",
       "      <td>2.77</td>\n",
       "      <td>Card</td>\n",
       "      <td>18.4</td>\n",
       "      <td>19.200000</td>\n",
       "    </tr>\n",
       "    <tr>\n",
       "      <th>2</th>\n",
       "      <td>1</td>\n",
       "      <td>3.30</td>\n",
       "      <td>Card</td>\n",
       "      <td>22.6</td>\n",
       "      <td>27.383333</td>\n",
       "    </tr>\n",
       "    <tr>\n",
       "      <th>3</th>\n",
       "      <td>1</td>\n",
       "      <td>0.30</td>\n",
       "      <td>Cash</td>\n",
       "      <td>5.1</td>\n",
       "      <td>2.550000</td>\n",
       "    </tr>\n",
       "    <tr>\n",
       "      <th>4</th>\n",
       "      <td>1</td>\n",
       "      <td>0.83</td>\n",
       "      <td>Card</td>\n",
       "      <td>7.2</td>\n",
       "      <td>5.250000</td>\n",
       "    </tr>\n",
       "  </tbody>\n",
       "</table>\n",
       "</div>"
      ],
      "text/plain": [
       "   passenger_count  trip_distance payment_type  fare_amount   duration\n",
       "0                1           3.70         Card         24.0  27.950000\n",
       "1                1           2.77         Card         18.4  19.200000\n",
       "2                1           3.30         Card         22.6  27.383333\n",
       "3                1           0.30         Cash          5.1   2.550000\n",
       "4                1           0.83         Card          7.2   5.250000"
      ]
     },
     "execution_count": 2,
     "metadata": {},
     "output_type": "execute_result"
    }
   ],
   "source": [
    "df = pd.read_csv(\"datasets/Taxi_Trip_Data_preprocessed.csv\")\n",
    "df.head()"
   ]
  },
  {
   "cell_type": "code",
   "execution_count": 3,
   "metadata": {},
   "outputs": [
    {
     "data": {
      "text/plain": [
       "(8451090, 5)"
      ]
     },
     "execution_count": 3,
     "metadata": {},
     "output_type": "execute_result"
    }
   ],
   "source": [
    "df.shape"
   ]
  },
  {
   "cell_type": "code",
   "execution_count": 4,
   "metadata": {},
   "outputs": [
    {
     "data": {
      "text/plain": [
       "passenger_count      int64\n",
       "trip_distance      float64\n",
       "payment_type        object\n",
       "fare_amount        float64\n",
       "duration           float64\n",
       "dtype: object"
      ]
     },
     "execution_count": 4,
     "metadata": {},
     "output_type": "execute_result"
    }
   ],
   "source": [
    "df.dtypes"
   ]
  },
  {
   "cell_type": "markdown",
   "metadata": {},
   "source": [
    "# 1. Exploratory Data Analysis (EDA)"
   ]
  },
  {
   "cell_type": "code",
   "execution_count": 9,
   "metadata": {},
   "outputs": [],
   "source": [
    "import matplotlib.pyplot as plt\n",
    "import seaborn as sns"
   ]
  },
  {
   "cell_type": "code",
   "execution_count": 5,
   "metadata": {},
   "outputs": [
    {
     "data": {
      "text/html": [
       "<div>\n",
       "<style scoped>\n",
       "    .dataframe tbody tr th:only-of-type {\n",
       "        vertical-align: middle;\n",
       "    }\n",
       "\n",
       "    .dataframe tbody tr th {\n",
       "        vertical-align: top;\n",
       "    }\n",
       "\n",
       "    .dataframe thead th {\n",
       "        text-align: right;\n",
       "    }\n",
       "</style>\n",
       "<table border=\"1\" class=\"dataframe\">\n",
       "  <thead>\n",
       "    <tr style=\"text-align: right;\">\n",
       "      <th></th>\n",
       "      <th>passenger_count</th>\n",
       "      <th>trip_distance</th>\n",
       "      <th>payment_type</th>\n",
       "      <th>fare_amount</th>\n",
       "      <th>duration</th>\n",
       "      <th>expect</th>\n",
       "    </tr>\n",
       "  </thead>\n",
       "  <tbody>\n",
       "    <tr>\n",
       "      <th>0</th>\n",
       "      <td>1</td>\n",
       "      <td>3.70</td>\n",
       "      <td>Card</td>\n",
       "      <td>24.0</td>\n",
       "      <td>27.950000</td>\n",
       "      <td>26.225000</td>\n",
       "    </tr>\n",
       "    <tr>\n",
       "      <th>1</th>\n",
       "      <td>1</td>\n",
       "      <td>2.77</td>\n",
       "      <td>Card</td>\n",
       "      <td>18.4</td>\n",
       "      <td>19.200000</td>\n",
       "      <td>19.525000</td>\n",
       "    </tr>\n",
       "    <tr>\n",
       "      <th>2</th>\n",
       "      <td>1</td>\n",
       "      <td>3.30</td>\n",
       "      <td>Card</td>\n",
       "      <td>22.6</td>\n",
       "      <td>27.383333</td>\n",
       "      <td>24.941667</td>\n",
       "    </tr>\n",
       "    <tr>\n",
       "      <th>3</th>\n",
       "      <td>1</td>\n",
       "      <td>0.30</td>\n",
       "      <td>Cash</td>\n",
       "      <td>5.1</td>\n",
       "      <td>2.550000</td>\n",
       "      <td>5.025000</td>\n",
       "    </tr>\n",
       "    <tr>\n",
       "      <th>4</th>\n",
       "      <td>1</td>\n",
       "      <td>0.83</td>\n",
       "      <td>Card</td>\n",
       "      <td>7.2</td>\n",
       "      <td>5.250000</td>\n",
       "      <td>7.700000</td>\n",
       "    </tr>\n",
       "  </tbody>\n",
       "</table>\n",
       "</div>"
      ],
      "text/plain": [
       "   passenger_count  trip_distance payment_type  fare_amount   duration  \\\n",
       "0                1           3.70         Card         24.0  27.950000   \n",
       "1                1           2.77         Card         18.4  19.200000   \n",
       "2                1           3.30         Card         22.6  27.383333   \n",
       "3                1           0.30         Cash          5.1   2.550000   \n",
       "4                1           0.83         Card          7.2   5.250000   \n",
       "\n",
       "      expect  \n",
       "0  26.225000  \n",
       "1  19.525000  \n",
       "2  24.941667  \n",
       "3   5.025000  \n",
       "4   7.700000  "
      ]
     },
     "execution_count": 5,
     "metadata": {},
     "output_type": "execute_result"
    }
   ],
   "source": [
    "# Fare Formula\n",
    "df['expect'] = 3.00 + (2.50 * df['trip_distance']) + (0.50 * df['duration'])\n",
    "df.head()"
   ]
  },
  {
   "cell_type": "code",
   "execution_count": null,
   "metadata": {},
   "outputs": [],
   "source": [
    "def categorize_fare(row):\n",
    "    # Deviation\n",
    "    deviation = (row['fare_amount'] - row['expect']) / row['expect'] * 100\n",
    "\n",
    "    if deviation > 20:\n",
    "        return 'Overcharge'\n",
    "    elif 10 < deviation <= 20:\n",
    "        return 'Slightly High'\n",
    "    elif -10 <= deviation <= 10:\n",
    "        return 'Fair'\n",
    "    elif -20 <= deviation < -10:\n",
    "        return 'Slightly Low'\n",
    "    else:\n",
    "        return 'Undercharge'"
   ]
  },
  {
   "cell_type": "code",
   "execution_count": 14,
   "metadata": {},
   "outputs": [
    {
     "data": {
      "text/html": [
       "<div>\n",
       "<style scoped>\n",
       "    .dataframe tbody tr th:only-of-type {\n",
       "        vertical-align: middle;\n",
       "    }\n",
       "\n",
       "    .dataframe tbody tr th {\n",
       "        vertical-align: top;\n",
       "    }\n",
       "\n",
       "    .dataframe thead th {\n",
       "        text-align: right;\n",
       "    }\n",
       "</style>\n",
       "<table border=\"1\" class=\"dataframe\">\n",
       "  <thead>\n",
       "    <tr style=\"text-align: right;\">\n",
       "      <th></th>\n",
       "      <th>passenger_count</th>\n",
       "      <th>trip_distance</th>\n",
       "      <th>payment_type</th>\n",
       "      <th>fare_amount</th>\n",
       "      <th>duration</th>\n",
       "      <th>expect</th>\n",
       "      <th>fare_category</th>\n",
       "    </tr>\n",
       "  </thead>\n",
       "  <tbody>\n",
       "    <tr>\n",
       "      <th>0</th>\n",
       "      <td>1</td>\n",
       "      <td>3.70</td>\n",
       "      <td>Card</td>\n",
       "      <td>24.0</td>\n",
       "      <td>27.950000</td>\n",
       "      <td>26.225000</td>\n",
       "      <td>Fair</td>\n",
       "    </tr>\n",
       "    <tr>\n",
       "      <th>1</th>\n",
       "      <td>1</td>\n",
       "      <td>2.77</td>\n",
       "      <td>Card</td>\n",
       "      <td>18.4</td>\n",
       "      <td>19.200000</td>\n",
       "      <td>19.525000</td>\n",
       "      <td>Fair</td>\n",
       "    </tr>\n",
       "    <tr>\n",
       "      <th>2</th>\n",
       "      <td>1</td>\n",
       "      <td>3.30</td>\n",
       "      <td>Card</td>\n",
       "      <td>22.6</td>\n",
       "      <td>27.383333</td>\n",
       "      <td>24.941667</td>\n",
       "      <td>Fair</td>\n",
       "    </tr>\n",
       "    <tr>\n",
       "      <th>3</th>\n",
       "      <td>1</td>\n",
       "      <td>0.30</td>\n",
       "      <td>Cash</td>\n",
       "      <td>5.1</td>\n",
       "      <td>2.550000</td>\n",
       "      <td>5.025000</td>\n",
       "      <td>Fair</td>\n",
       "    </tr>\n",
       "    <tr>\n",
       "      <th>4</th>\n",
       "      <td>1</td>\n",
       "      <td>0.83</td>\n",
       "      <td>Card</td>\n",
       "      <td>7.2</td>\n",
       "      <td>5.250000</td>\n",
       "      <td>7.700000</td>\n",
       "      <td>Fair</td>\n",
       "    </tr>\n",
       "  </tbody>\n",
       "</table>\n",
       "</div>"
      ],
      "text/plain": [
       "   passenger_count  trip_distance payment_type  fare_amount   duration  \\\n",
       "0                1           3.70         Card         24.0  27.950000   \n",
       "1                1           2.77         Card         18.4  19.200000   \n",
       "2                1           3.30         Card         22.6  27.383333   \n",
       "3                1           0.30         Cash          5.1   2.550000   \n",
       "4                1           0.83         Card          7.2   5.250000   \n",
       "\n",
       "      expect fare_category  \n",
       "0  26.225000          Fair  \n",
       "1  19.525000          Fair  \n",
       "2  24.941667          Fair  \n",
       "3   5.025000          Fair  \n",
       "4   7.700000          Fair  "
      ]
     },
     "execution_count": 14,
     "metadata": {},
     "output_type": "execute_result"
    }
   ],
   "source": [
    "df['fare_category'] = df.apply(categorize_fare, axis=1)\n",
    "df.head()"
   ]
  },
  {
   "cell_type": "code",
   "execution_count": 15,
   "metadata": {},
   "outputs": [
    {
     "data": {
      "text/plain": [
       "fare_category\n",
       "Fair            7060948\n",
       "Slightly Low    1248929\n",
       "Slighly High      73661\n",
       "Undercharge       51328\n",
       "Overcharge        16224\n",
       "Name: count, dtype: int64"
      ]
     },
     "execution_count": 15,
     "metadata": {},
     "output_type": "execute_result"
    }
   ],
   "source": [
    "df['fare_category'].value_counts()"
   ]
  },
  {
   "cell_type": "code",
   "execution_count": 18,
   "metadata": {},
   "outputs": [],
   "source": [
    "sort = ['Undercharge','Slightly Low','Fair','Slightly High','Overcharge']"
   ]
  },
  {
   "cell_type": "code",
   "execution_count": 16,
   "metadata": {},
   "outputs": [
    {
     "data": {
      "image/png": "[encoded data removed]",
      "text/plain": [
       "<Figure size 640x480 with 1 Axes>"
      ]
     },
     "metadata": {},
     "output_type": "display_data"
    }
   ],
   "source": [
    "# Bar Plot\n",
    "sns.countplot(x='fare_category', data=df, palette='viridis')\n",
    "plt.title(\"Distribution of Fare Amount Categories\")\n",
    "plt.xlabel(\"Category\")\n",
    "plt.ylabel(\"Total Data\")\n",
    "plt.show()"
   ]
  },
  {
   "cell_type": "code",
   "execution_count": 17,
   "metadata": {},
   "outputs": [
    {
     "data": {
      "image/png": "[encoded data removed]",
      "text/plain": [
       "<Figure size 640x480 with 1 Axes>"
      ]
     },
     "metadata": {},
     "output_type": "display_data"
    }
   ],
   "source": [
    "# Box Plot\n",
    "sns.boxplot(x='fare_category', y='fare_amount', data=df, palette='viridis')\n",
    "plt.title(\"Comparing Fare Amount and Category\")\n",
    "plt.xlabel(\"Category\")\n",
    "plt.ylabel(\"Fare Amount\")\n",
    "plt.show()"
   ]
  }
 ],
 "metadata": {
  "kernelspec": {
   "display_name": "myenv",
   "language": "python",
   "name": "python3"
  },
  "language_info": {
   "codemirror_mode": {
    "name": "ipython",
    "version": 3
   },
   "file_extension": ".py",
   "mimetype": "text/x-python",
   "name": "python",
   "nbconvert_exporter": "python",
   "pygments_lexer": "ipython3",
   "version": "3.12.3"
  }
 },
 "nbformat": 4,
 "nbformat_minor": 2
}
