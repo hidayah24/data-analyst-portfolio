{
 "cells": [
  {
   "cell_type": "markdown",
   "metadata": {},
   "source": [
    "<h1>Taxi Trip Fare Data 2023</h1>\n",
    "<p>A dataset of taxi trip details, including fare, distance, and payment type.</p>\n",
    "<h2>About Dataset</h2>\n",
    "<p>This dataset contains detailed information about taxi trips, including passenger count, trip distance, payment type, fare amount, and trip duration. It is useful for various data analysis and machine learning applications, such as fare prediction and ride pattern analysis.</p>\n",
    "<h2>Data Source</h2>\n",
    "<p><strong>Kaggle:</strong> <a href=\"https://www.kaggle.com/datasets/hrish4/taxi-trip-fare-data-2023\">taxi-trip-fare-data-2023</a></p>\n",
    "<h2>Pricing Policy</h2>\n",
    "The fare calculation in this project adheres to the official pricing policy provided by the fictional taxi company stakeholder:\n",
    "<table>\n",
    "<tr>\n",
    "<th>Component</th>\n",
    "<th>Rate</th>\n",
    "<th>Applied To</th>\n",
    "</tr>\n",
    "<tr>\n",
    "<td>Base Fare</td>\n",
    "<td>$3.00</td>\n",
    "<td>All trips(flat fee)</td>\n",
    "</tr>\n",
    "<tr>\n",
    "<td>Per-Mile Charge</td>\n",
    "<td>$2.50</td>\n",
    "<td>trip_distance(miles)</td>\n",
    "</tr>\n",
    "<tr>\n",
    "<td>Per-Minute Charge</td>\n",
    "<td>$0.50</td>\n",
    "<td>duration(minutes)</td>\n",
    "</tr>\n",
    "</table>\n",
    "<strong>Industry Reference:</strong>\n",
    "<p>Rates Align with NYC TLC's yellow taxi base fare ($3.00) and per-mile ($2.00) as of 2023 (<a href=\"https://www.nyc.gov/site/tlc/passengers/taxi-fare.page\">Source</a>)</p>"
   ]
  },
  {
   "cell_type": "code",
   "execution_count": 1,
   "metadata": {},
   "outputs": [],
   "source": [
    "import pandas as pd\n",
    "import numpy as np\n",
    "import warnings\n",
    "warnings.filterwarnings('ignore')"
   ]
  },
  {
   "cell_type": "markdown",
   "metadata": {},
   "source": [
    "<h3>I will skip data preprocessing because the name of the file already contains the word <strong>\"preprocessed\"</strong>, even though it doesn't explicity tell you that this stage of this file has been carried out.</h3>"
   ]
  },
  {
   "cell_type": "code",
   "execution_count": null,
   "metadata": {},
   "outputs": [],
   "source": [
    "df = pd.read_csv(\"datasets/Taxi_Trip_Data_preprocessed.csv\")\n",
    "df.head()"
   ]
  },
  {
   "cell_type": "code",
   "execution_count": null,
   "metadata": {},
   "outputs": [],
   "source": [
    "df.shape"
   ]
  },
  {
   "cell_type": "markdown",
   "metadata": {},
   "source": [
    "# 1. Exploratory Data Analysis (EDA)"
   ]
  },
  {
   "cell_type": "code",
   "execution_count": null,
   "metadata": {},
   "outputs": [],
   "source": []
  }
 ],
 "metadata": {
  "kernelspec": {
   "display_name": "myenv",
   "language": "python",
   "name": "python3"
  },
  "language_info": {
   "codemirror_mode": {
    "name": "ipython",
    "version": 3
   },
   "file_extension": ".py",
   "mimetype": "text/x-python",
   "name": "python",
   "nbconvert_exporter": "python",
   "pygments_lexer": "ipython3",
   "version": "3.12.3"
  }
 },
 "nbformat": 4,
 "nbformat_minor": 2
}
