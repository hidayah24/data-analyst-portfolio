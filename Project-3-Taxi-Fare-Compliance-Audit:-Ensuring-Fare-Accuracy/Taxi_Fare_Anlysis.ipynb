{
 "cells": [
  {
   "cell_type": "markdown",
   "metadata": {},
   "source": [
    "<h1>Taxi Trip Fare Data 2023</h1>\n",
    "<p>A dataset of taxi trip details, including fare, distance, and payment type.</p>\n",
    "<h2>About Dataset</h2>\n",
    "<p>This dataset contains detailed information about taxi trips, including passenger count, trip distance, payment type, fare amount, and trip duration. It is useful for various data analysis and machine learning applications, such as fare prediction and ride pattern analysis.</p>\n",
    "<h2>Data Source</h2>\n",
    "<p><strong>Kaggle:</strong> <a href=\"https://www.kaggle.com/datasets/hrish4/taxi-trip-fare-data-2023\">taxi-trip-fare-data-2023</a></p>\n",
    "<h2>Pricing Policy</h2>\n",
    "The fare calculation in this project adheres to the official pricing policy provided by the fictional taxi company stakeholder:\n",
    "<table>\n",
    "<tr>\n",
    "<th>Component</th>\n",
    "<th>Rate</th>\n",
    "<th>Applied To</th>\n",
    "</tr>\n",
    "<tr>\n",
    "<td>Base Fare</td>\n",
    "<td>$3.00</td>\n",
    "<td>All trips(flat fee)</td>\n",
    "</tr>\n",
    "<tr>\n",
    "<td>Per-Mile Charge</td>\n",
    "<td>$2.50</td>\n",
    "<td>trip_distance(miles)</td>\n",
    "</tr>\n",
    "<tr>\n",
    "<td>Per-Minute Charge</td>\n",
    "<td>$0.50</td>\n",
    "<td>duration(minutes)</td>\n",
    "</tr>\n",
    "</table>\n",
    "<strong>Industry Reference:</strong>\n",
    "<p>Rates Align with NYC TLC's yellow taxi base fare ($3.00) and per-mile ($2.00) as of 2023 (<a href=\"https://www.nyc.gov/site/tlc/passengers/taxi-fare.page\">Source</a>)</p>"
   ]
  },
  {
   "cell_type": "code",
   "execution_count": 1,
   "metadata": {},
   "outputs": [],
   "source": [
    "import pandas as pd\n",
    "import numpy as np\n",
    "import warnings\n",
    "warnings.filterwarnings('ignore')"
   ]
  },
  {
   "cell_type": "markdown",
   "metadata": {},
   "source": [
    "# 1. Data Preprocessing"
   ]
  },
  {
   "cell_type": "code",
   "execution_count": 2,
   "metadata": {},
   "outputs": [
    {
     "data": {
      "text/html": [
       "<div>\n",
       "<style scoped>\n",
       "    .dataframe tbody tr th:only-of-type {\n",
       "        vertical-align: middle;\n",
       "    }\n",
       "\n",
       "    .dataframe tbody tr th {\n",
       "        vertical-align: top;\n",
       "    }\n",
       "\n",
       "    .dataframe thead th {\n",
       "        text-align: right;\n",
       "    }\n",
       "</style>\n",
       "<table border=\"1\" class=\"dataframe\">\n",
       "  <thead>\n",
       "    <tr style=\"text-align: right;\">\n",
       "      <th></th>\n",
       "      <th>passenger_count</th>\n",
       "      <th>trip_distance</th>\n",
       "      <th>payment_type</th>\n",
       "      <th>fare_amount</th>\n",
       "      <th>duration</th>\n",
       "    </tr>\n",
       "  </thead>\n",
       "  <tbody>\n",
       "    <tr>\n",
       "      <th>0</th>\n",
       "      <td>1</td>\n",
       "      <td>3.70</td>\n",
       "      <td>Card</td>\n",
       "      <td>24.0</td>\n",
       "      <td>27.950000</td>\n",
       "    </tr>\n",
       "    <tr>\n",
       "      <th>1</th>\n",
       "      <td>1</td>\n",
       "      <td>2.77</td>\n",
       "      <td>Card</td>\n",
       "      <td>18.4</td>\n",
       "      <td>19.200000</td>\n",
       "    </tr>\n",
       "    <tr>\n",
       "      <th>2</th>\n",
       "      <td>1</td>\n",
       "      <td>3.30</td>\n",
       "      <td>Card</td>\n",
       "      <td>22.6</td>\n",
       "      <td>27.383333</td>\n",
       "    </tr>\n",
       "    <tr>\n",
       "      <th>3</th>\n",
       "      <td>1</td>\n",
       "      <td>0.30</td>\n",
       "      <td>Cash</td>\n",
       "      <td>5.1</td>\n",
       "      <td>2.550000</td>\n",
       "    </tr>\n",
       "    <tr>\n",
       "      <th>4</th>\n",
       "      <td>1</td>\n",
       "      <td>0.83</td>\n",
       "      <td>Card</td>\n",
       "      <td>7.2</td>\n",
       "      <td>5.250000</td>\n",
       "    </tr>\n",
       "  </tbody>\n",
       "</table>\n",
       "</div>"
      ],
      "text/plain": [
       "   passenger_count  trip_distance payment_type  fare_amount   duration\n",
       "0                1           3.70         Card         24.0  27.950000\n",
       "1                1           2.77         Card         18.4  19.200000\n",
       "2                1           3.30         Card         22.6  27.383333\n",
       "3                1           0.30         Cash          5.1   2.550000\n",
       "4                1           0.83         Card          7.2   5.250000"
      ]
     },
     "execution_count": 2,
     "metadata": {},
     "output_type": "execute_result"
    }
   ],
   "source": [
    "df = pd.read_csv(\"datasets/Taxi_Trip_Data_preprocessed.csv\")\n",
    "df.head()"
   ]
  },
  {
   "cell_type": "code",
   "execution_count": 3,
   "metadata": {},
   "outputs": [
    {
     "data": {
      "text/plain": [
       "(8451090, 5)"
      ]
     },
     "execution_count": 3,
     "metadata": {},
     "output_type": "execute_result"
    }
   ],
   "source": [
    "df.shape"
   ]
  },
  {
   "cell_type": "markdown",
   "metadata": {},
   "source": [
    "## 1. Data Missing"
   ]
  },
  {
   "cell_type": "code",
   "execution_count": 4,
   "metadata": {},
   "outputs": [
    {
     "data": {
      "text/plain": [
       "passenger_count    0\n",
       "trip_distance      0\n",
       "payment_type       0\n",
       "fare_amount        0\n",
       "duration           0\n",
       "dtype: int64"
      ]
     },
     "execution_count": 4,
     "metadata": {},
     "output_type": "execute_result"
    }
   ],
   "source": [
    "df.isnull().sum()"
   ]
  },
  {
   "cell_type": "markdown",
   "metadata": {},
   "source": [
    "## 2. Data Duplicate"
   ]
  },
  {
   "cell_type": "code",
   "execution_count": 7,
   "metadata": {},
   "outputs": [
    {
     "data": {
      "text/plain": [
       "np.int64(6691280)"
      ]
     },
     "execution_count": 7,
     "metadata": {},
     "output_type": "execute_result"
    }
   ],
   "source": [
    "df.duplicated(keep=False).sum()"
   ]
  },
  {
   "cell_type": "code",
   "execution_count": 8,
   "metadata": {},
   "outputs": [
    {
     "data": {
      "text/html": [
       "<div>\n",
       "<style scoped>\n",
       "    .dataframe tbody tr th:only-of-type {\n",
       "        vertical-align: middle;\n",
       "    }\n",
       "\n",
       "    .dataframe tbody tr th {\n",
       "        vertical-align: top;\n",
       "    }\n",
       "\n",
       "    .dataframe thead th {\n",
       "        text-align: right;\n",
       "    }\n",
       "</style>\n",
       "<table border=\"1\" class=\"dataframe\">\n",
       "  <thead>\n",
       "    <tr style=\"text-align: right;\">\n",
       "      <th></th>\n",
       "      <th>passenger_count</th>\n",
       "      <th>trip_distance</th>\n",
       "      <th>payment_type</th>\n",
       "      <th>fare_amount</th>\n",
       "      <th>duration</th>\n",
       "    </tr>\n",
       "  </thead>\n",
       "  <tbody>\n",
       "    <tr>\n",
       "      <th>702</th>\n",
       "      <td>1</td>\n",
       "      <td>1.12</td>\n",
       "      <td>Card</td>\n",
       "      <td>9.3</td>\n",
       "      <td>8.133333</td>\n",
       "    </tr>\n",
       "    <tr>\n",
       "      <th>1698</th>\n",
       "      <td>2</td>\n",
       "      <td>0.73</td>\n",
       "      <td>Card</td>\n",
       "      <td>5.8</td>\n",
       "      <td>3.500000</td>\n",
       "    </tr>\n",
       "    <tr>\n",
       "      <th>2445</th>\n",
       "      <td>1</td>\n",
       "      <td>1.00</td>\n",
       "      <td>Card</td>\n",
       "      <td>7.2</td>\n",
       "      <td>5.316667</td>\n",
       "    </tr>\n",
       "    <tr>\n",
       "      <th>2684</th>\n",
       "      <td>1</td>\n",
       "      <td>0.60</td>\n",
       "      <td>Card</td>\n",
       "      <td>5.8</td>\n",
       "      <td>3.016667</td>\n",
       "    </tr>\n",
       "    <tr>\n",
       "      <th>2988</th>\n",
       "      <td>1</td>\n",
       "      <td>0.70</td>\n",
       "      <td>Card</td>\n",
       "      <td>6.5</td>\n",
       "      <td>4.500000</td>\n",
       "    </tr>\n",
       "  </tbody>\n",
       "</table>\n",
       "</div>"
      ],
      "text/plain": [
       "      passenger_count  trip_distance payment_type  fare_amount  duration\n",
       "702                 1           1.12         Card          9.3  8.133333\n",
       "1698                2           0.73         Card          5.8  3.500000\n",
       "2445                1           1.00         Card          7.2  5.316667\n",
       "2684                1           0.60         Card          5.8  3.016667\n",
       "2988                1           0.70         Card          6.5  4.500000"
      ]
     },
     "execution_count": 8,
     "metadata": {},
     "output_type": "execute_result"
    }
   ],
   "source": [
    "duplicates = df.duplicated()\n",
    "df[duplicates].head()"
   ]
  },
  {
   "cell_type": "code",
   "execution_count": 15,
   "metadata": {},
   "outputs": [
    {
     "data": {
      "text/html": [
       "<div>\n",
       "<style scoped>\n",
       "    .dataframe tbody tr th:only-of-type {\n",
       "        vertical-align: middle;\n",
       "    }\n",
       "\n",
       "    .dataframe tbody tr th {\n",
       "        vertical-align: top;\n",
       "    }\n",
       "\n",
       "    .dataframe thead th {\n",
       "        text-align: right;\n",
       "    }\n",
       "</style>\n",
       "<table border=\"1\" class=\"dataframe\">\n",
       "  <thead>\n",
       "    <tr style=\"text-align: right;\">\n",
       "      <th></th>\n",
       "      <th>passenger_count</th>\n",
       "      <th>trip_distance</th>\n",
       "      <th>payment_type</th>\n",
       "      <th>fare_amount</th>\n",
       "      <th>duration</th>\n",
       "      <th>Frequency</th>\n",
       "    </tr>\n",
       "  </thead>\n",
       "  <tbody>\n",
       "    <tr>\n",
       "      <th>117998</th>\n",
       "      <td>1</td>\n",
       "      <td>0.7</td>\n",
       "      <td>Card</td>\n",
       "      <td>6.5</td>\n",
       "      <td>4.583333</td>\n",
       "      <td>212</td>\n",
       "    </tr>\n",
       "    <tr>\n",
       "      <th>117989</th>\n",
       "      <td>1</td>\n",
       "      <td>0.7</td>\n",
       "      <td>Card</td>\n",
       "      <td>6.5</td>\n",
       "      <td>4.433333</td>\n",
       "      <td>208</td>\n",
       "    </tr>\n",
       "    <tr>\n",
       "      <th>118004</th>\n",
       "      <td>1</td>\n",
       "      <td>0.7</td>\n",
       "      <td>Card</td>\n",
       "      <td>6.5</td>\n",
       "      <td>4.683333</td>\n",
       "      <td>206</td>\n",
       "    </tr>\n",
       "    <tr>\n",
       "      <th>117996</th>\n",
       "      <td>1</td>\n",
       "      <td>0.7</td>\n",
       "      <td>Card</td>\n",
       "      <td>6.5</td>\n",
       "      <td>4.550000</td>\n",
       "      <td>205</td>\n",
       "    </tr>\n",
       "    <tr>\n",
       "      <th>87321</th>\n",
       "      <td>1</td>\n",
       "      <td>0.6</td>\n",
       "      <td>Card</td>\n",
       "      <td>5.8</td>\n",
       "      <td>3.983333</td>\n",
       "      <td>201</td>\n",
       "    </tr>\n",
       "  </tbody>\n",
       "</table>\n",
       "</div>"
      ],
      "text/plain": [
       "        passenger_count  trip_distance payment_type  fare_amount  duration  \\\n",
       "117998                1            0.7         Card          6.5  4.583333   \n",
       "117989                1            0.7         Card          6.5  4.433333   \n",
       "118004                1            0.7         Card          6.5  4.683333   \n",
       "117996                1            0.7         Card          6.5  4.550000   \n",
       "87321                 1            0.6         Card          5.8  3.983333   \n",
       "\n",
       "        Frequency  \n",
       "117998        212  \n",
       "117989        208  \n",
       "118004        206  \n",
       "117996        205  \n",
       "87321         201  "
      ]
     },
     "execution_count": 15,
     "metadata": {},
     "output_type": "execute_result"
    }
   ],
   "source": [
    "frequent = df.groupby(df.columns.tolist()).size().reset_index(name='Frequency')\n",
    "frequent.sort_values(by='Frequency', ascending=False).head()"
   ]
  }
 ],
 "metadata": {
  "kernelspec": {
   "display_name": "myenv",
   "language": "python",
   "name": "python3"
  },
  "language_info": {
   "codemirror_mode": {
    "name": "ipython",
    "version": 3
   },
   "file_extension": ".py",
   "mimetype": "text/x-python",
   "name": "python",
   "nbconvert_exporter": "python",
   "pygments_lexer": "ipython3",
   "version": "3.12.3"
  }
 },
 "nbformat": 4,
 "nbformat_minor": 2
}
