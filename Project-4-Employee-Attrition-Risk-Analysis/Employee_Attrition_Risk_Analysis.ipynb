{
 "cells": [
  {
   "cell_type": "markdown",
   "id": "36d650bd",
   "metadata": {},
   "source": [
    "<center>\n",
    "<img src='project4-logo.png' style=\"border-radius: 50%; width: 200px; height: 200px; object-fit: cover;\">\n",
    "</center>\n",
    "<center><h1>Employee Attrition Risk Analysis</h1></center>\n",
    "<center><p>HR Analytics Dashboard Dataset for Employee Attrition Analysis</p></center>\n",
    "<h2>About Dataset</h2>\n",
    "<p>This dataset is designed for analyzing employee attrition patterns and HR analytics using Power BI and other business intelligence tools. It includes 1,470 employee records with fields related to demographics, job satisfaction, compensation, and career progression.</p>\n",
    "<h2>Source</h2>\n",
    "<b>Kaggle: <a href=\"https://www.kaggle.com/datasets/anubhav761/hr-analytics-dashboard-employee-attrition/data\">Attrition</a></b>"
   ]
  },
  {
   "cell_type": "code",
   "execution_count": 1,
   "id": "26e6f4ba",
   "metadata": {},
   "outputs": [],
   "source": [
    "import pandas as pd\n",
    "import numpy as np\n",
    "import warnings\n",
    "warnings.filterwarnings('ignore')"
   ]
  }
 ],
 "metadata": {
  "kernelspec": {
   "display_name": "Python (myenv)",
   "language": "python",
   "name": "myenv"
  },
  "language_info": {
   "codemirror_mode": {
    "name": "ipython",
    "version": 3
   },
   "file_extension": ".py",
   "mimetype": "text/x-python",
   "name": "python",
   "nbconvert_exporter": "python",
   "pygments_lexer": "ipython3",
   "version": "3.12.3"
  }
 },
 "nbformat": 4,
 "nbformat_minor": 5
}
