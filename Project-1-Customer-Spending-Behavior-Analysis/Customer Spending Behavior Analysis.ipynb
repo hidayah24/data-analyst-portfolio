{
 "cells": [
  {
   "cell_type": "markdown",
   "id": "170c6fe1-ef2f-47bb-9125-44a90005fc13",
   "metadata": {},
   "source": [
    "<h1>About Dataset</h1>\n",
    "<h2>Dataset Overview</h2>\n",
    "<p>The <strong>Spending Patterns Dataset</strong> provides a synthetic representation of consumer spending behavior across various categories. This dataset is ideal for exploratory data analysis, statistical modeling, and machine learning applications related to financial forecasting, customer segmentation, or consumer behavior analysis.</p>\n",
    "<h2>Dataset Features</h2>\n",
    "<p>The dataset contains 10,000 transactions for 200 unique customers. Each transaction is associated with detailed information, including category, item, quantity, price, payment method, and transaction date.</p>\n",
    "Data Source from Kaggle <br/>\n",
    "<a href=\"https://www.kaggle.com/datasets/ahmedmohamed2003/spending-habits\">Spending Habits</a>"
   ]
  },
  {
   "cell_type": "code",
   "execution_count": 14,
   "id": "c1823709-5536-4366-bcf0-3f580d47d53a",
   "metadata": {},
   "outputs": [],
   "source": [
    "# Import Library\n",
    "import pandas as pd"
   ]
  },
  {
   "cell_type": "markdown",
   "id": "3a0c0617",
   "metadata": {},
   "source": [
    "#### 1. Data Collecting and Data Cleaning"
   ]
  },
  {
   "cell_type": "code",
   "execution_count": 3,
   "id": "38595ff4",
   "metadata": {},
   "outputs": [
    {
     "data": {
      "text/html": [
       "<div>\n",
       "<style scoped>\n",
       "    .dataframe tbody tr th:only-of-type {\n",
       "        vertical-align: middle;\n",
       "    }\n",
       "\n",
       "    .dataframe tbody tr th {\n",
       "        vertical-align: top;\n",
       "    }\n",
       "\n",
       "    .dataframe thead th {\n",
       "        text-align: right;\n",
       "    }\n",
       "</style>\n",
       "<table border=\"1\" class=\"dataframe\">\n",
       "  <thead>\n",
       "    <tr style=\"text-align: right;\">\n",
       "      <th></th>\n",
       "      <th>Customer ID</th>\n",
       "      <th>Category</th>\n",
       "      <th>Item</th>\n",
       "      <th>Quantity</th>\n",
       "      <th>Price Per Unit</th>\n",
       "      <th>Total Spent</th>\n",
       "      <th>Payment Method</th>\n",
       "      <th>Location</th>\n",
       "      <th>Transaction Date</th>\n",
       "    </tr>\n",
       "  </thead>\n",
       "  <tbody>\n",
       "    <tr>\n",
       "      <th>0</th>\n",
       "      <td>CUST_0159</td>\n",
       "      <td>Groceries</td>\n",
       "      <td>Milk</td>\n",
       "      <td>1</td>\n",
       "      <td>1.28</td>\n",
       "      <td>1.28</td>\n",
       "      <td>Debit Card</td>\n",
       "      <td>Mobile App</td>\n",
       "      <td>2024-11-13</td>\n",
       "    </tr>\n",
       "    <tr>\n",
       "      <th>1</th>\n",
       "      <td>CUST_0017</td>\n",
       "      <td>Friend Activities</td>\n",
       "      <td>Dinner with Friends</td>\n",
       "      <td>2</td>\n",
       "      <td>74.69</td>\n",
       "      <td>149.39</td>\n",
       "      <td>Debit Card</td>\n",
       "      <td>In-store</td>\n",
       "      <td>2023-05-04</td>\n",
       "    </tr>\n",
       "    <tr>\n",
       "      <th>2</th>\n",
       "      <td>CUST_0094</td>\n",
       "      <td>Housing and Utilities</td>\n",
       "      <td>Water Bill</td>\n",
       "      <td>1</td>\n",
       "      <td>76.06</td>\n",
       "      <td>76.06</td>\n",
       "      <td>Digital Wallet</td>\n",
       "      <td>Mobile App</td>\n",
       "      <td>2023-12-16</td>\n",
       "    </tr>\n",
       "    <tr>\n",
       "      <th>3</th>\n",
       "      <td>CUST_0162</td>\n",
       "      <td>Fitness</td>\n",
       "      <td>Yoga Class</td>\n",
       "      <td>5</td>\n",
       "      <td>11.24</td>\n",
       "      <td>56.18</td>\n",
       "      <td>Cash</td>\n",
       "      <td>In-store</td>\n",
       "      <td>2024-01-28</td>\n",
       "    </tr>\n",
       "    <tr>\n",
       "      <th>4</th>\n",
       "      <td>CUST_0129</td>\n",
       "      <td>Gifts</td>\n",
       "      <td>Flowers</td>\n",
       "      <td>3</td>\n",
       "      <td>43.71</td>\n",
       "      <td>131.12</td>\n",
       "      <td>Debit Card</td>\n",
       "      <td>In-store</td>\n",
       "      <td>2023-07-28</td>\n",
       "    </tr>\n",
       "  </tbody>\n",
       "</table>\n",
       "</div>"
      ],
      "text/plain": [
       "  Customer ID               Category                 Item  Quantity  \\\n",
       "0   CUST_0159              Groceries                 Milk         1   \n",
       "1   CUST_0017      Friend Activities  Dinner with Friends         2   \n",
       "2   CUST_0094  Housing and Utilities           Water Bill         1   \n",
       "3   CUST_0162                Fitness           Yoga Class         5   \n",
       "4   CUST_0129                  Gifts              Flowers         3   \n",
       "\n",
       "   Price Per Unit  Total Spent  Payment Method    Location Transaction Date  \n",
       "0            1.28         1.28      Debit Card  Mobile App       2024-11-13  \n",
       "1           74.69       149.39      Debit Card    In-store       2023-05-04  \n",
       "2           76.06        76.06  Digital Wallet  Mobile App       2023-12-16  \n",
       "3           11.24        56.18            Cash    In-store       2024-01-28  \n",
       "4           43.71       131.12      Debit Card    In-store       2023-07-28  "
      ]
     },
     "execution_count": 3,
     "metadata": {},
     "output_type": "execute_result"
    }
   ],
   "source": [
    "df = pd.read_csv(\"spending_patterns_detailed.csv\")\n",
    "df.head()"
   ]
  },
  {
   "cell_type": "code",
   "execution_count": 10,
   "id": "849069d5",
   "metadata": {},
   "outputs": [
    {
     "data": {
      "text/plain": [
       "(10000, 9)"
      ]
     },
     "execution_count": 10,
     "metadata": {},
     "output_type": "execute_result"
    }
   ],
   "source": [
    "df.shape"
   ]
  },
  {
   "cell_type": "markdown",
   "id": "8e5935e0",
   "metadata": {},
   "source": [
    "#### 2. Data Preprocessing"
   ]
  },
  {
   "cell_type": "code",
   "execution_count": 4,
   "id": "5498c080",
   "metadata": {},
   "outputs": [
    {
     "data": {
      "text/plain": [
       "Customer ID         0\n",
       "Category            0\n",
       "Item                0\n",
       "Quantity            0\n",
       "Price Per Unit      0\n",
       "Total Spent         0\n",
       "Payment Method      0\n",
       "Location            0\n",
       "Transaction Date    0\n",
       "dtype: int64"
      ]
     },
     "execution_count": 4,
     "metadata": {},
     "output_type": "execute_result"
    }
   ],
   "source": [
    "df.isnull().sum()"
   ]
  },
  {
   "cell_type": "code",
   "execution_count": 8,
   "id": "a2f38f10",
   "metadata": {},
   "outputs": [
    {
     "name": "stdout",
     "output_type": "stream",
     "text": [
      "Empty DataFrame\n",
      "Columns: [Customer ID, Category, Item, Quantity, Price Per Unit, Total Spent, Payment Method, Location, Transaction Date]\n",
      "Index: []\n"
     ]
    }
   ],
   "source": [
    "duplicate = df[df.duplicated()]\n",
    "print(duplicate)"
   ]
  },
  {
   "cell_type": "code",
   "execution_count": 12,
   "id": "ecb4c2c5",
   "metadata": {},
   "outputs": [
    {
     "data": {
      "text/plain": [
       "Customer ID          object\n",
       "Category             object\n",
       "Item                 object\n",
       "Quantity              int64\n",
       "Price Per Unit      float64\n",
       "Total Spent         float64\n",
       "Payment Method       object\n",
       "Location             object\n",
       "Transaction Date     object\n",
       "dtype: object"
      ]
     },
     "execution_count": 12,
     "metadata": {},
     "output_type": "execute_result"
    }
   ],
   "source": [
    "df.dtypes"
   ]
  },
  {
   "cell_type": "code",
   "execution_count": 13,
   "id": "ccfe1022",
   "metadata": {},
   "outputs": [
    {
     "data": {
      "text/plain": [
       "array(['Debit Card', 'Digital Wallet', 'Cash', 'Credit Card'],\n",
       "      dtype=object)"
      ]
     },
     "execution_count": 13,
     "metadata": {},
     "output_type": "execute_result"
    }
   ],
   "source": [
    "df['Payment Method'].unique()"
   ]
  }
 ],
 "metadata": {
  "kernelspec": {
   "display_name": "myenv",
   "language": "python",
   "name": "python3"
  },
  "language_info": {
   "codemirror_mode": {
    "name": "ipython",
    "version": 3
   },
   "file_extension": ".py",
   "mimetype": "text/x-python",
   "name": "python",
   "nbconvert_exporter": "python",
   "pygments_lexer": "ipython3",
   "version": "3.12.3"
  }
 },
 "nbformat": 4,
 "nbformat_minor": 5
}
