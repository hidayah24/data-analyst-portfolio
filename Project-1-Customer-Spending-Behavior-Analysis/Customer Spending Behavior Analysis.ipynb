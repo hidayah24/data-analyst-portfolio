{
 "cells": [
  {
   "cell_type": "markdown",
   "id": "170c6fe1-ef2f-47bb-9125-44a90005fc13",
   "metadata": {},
   "source": [
    "<h1>About Dataset</h1>\n",
    "<h2>Dataset Overview</h2>\n",
    "<p>The <strong>Spending Patterns Dataset</strong> provides a synthetic representation of consumer spending behavior across various categories. This dataset is ideal for exploratory data analysis, statistical modeling, and machine learning applications related to financial forecasting, customer segmentation, or consumer behavior analysis.</p>\n",
    "<h2>Dataset Features</h2>\n",
    "<p>The dataset contains 10,000 transactions for 200 unique customers. Each transaction is associated with detailed information, including category, item, quantity, price, payment method, and transaction date.</p>\n",
    "Data Source from Kaggle <br/>\n",
    "<a href=\"https://www.kaggle.com/datasets/ahmedmohamed2003/spending-habits\">Spending Habits</a>\n",
    "https://www.kaggle.com/datasets/ahmedmohamed2003/spending-habits"
   ]
  },
  {
   "cell_type": "code",
   "execution_count": null,
   "id": "c1823709-5536-4366-bcf0-3f580d47d53a",
   "metadata": {},
   "outputs": [],
   "source": []
  }
 ],
 "metadata": {
  "kernelspec": {
   "display_name": "Python 3 (ipykernel)",
   "language": "python",
   "name": "python3"
  },
  "language_info": {
   "codemirror_mode": {
    "name": "ipython",
    "version": 3
   },
   "file_extension": ".py",
   "mimetype": "text/x-python",
   "name": "python",
   "nbconvert_exporter": "python",
   "pygments_lexer": "ipython3",
   "version": "3.10.16"
  }
 },
 "nbformat": 4,
 "nbformat_minor": 5
}
