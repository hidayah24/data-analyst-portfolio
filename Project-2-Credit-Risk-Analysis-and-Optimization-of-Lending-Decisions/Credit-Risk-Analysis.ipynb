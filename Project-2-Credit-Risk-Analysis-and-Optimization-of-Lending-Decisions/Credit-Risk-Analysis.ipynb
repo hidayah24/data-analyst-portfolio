{
 "cells": [
  {
   "cell_type": "markdown",
   "metadata": {},
   "source": [
    "<h1 align=\"center\">Loan - Credit Risk & Population Stability</h1>\n",
    "<h2>About Dataset</h2>\n",
    "<p>Loan - Credit Risk & Population Stability is a part of Lending Club Company public database.\n",
    "LendingClub is a US peer-to-peer lending company, headquartered in San Francisco, California. It was the first peer-to-peer lender to register its offerings as securities with the Securities and Exchange Commission (SEC), and to offer loan trading on a secondary market. LendingClub is the world's largest peer-to-peer lending platform.</p>\n",
    "<p>The data was divided into two parts.</p>\n",
    "<p>The first data (loan_2014-2018.csv) contains almoust 1800 000 consumer loans issued from 2014 to 2018.\n",
    "The second one (loan_2019-2020.csv) is specially separated to check if model have similar characteristics and is still up to date.</p>\n",
    "<strong><p>In this project, I will only use the \"loan_2019-2020.csv\" dataset</p></strong>\n",
    "<h2>Data Source</h2>\n",
    "<p>Kaggle: <a href=\"https://www.kaggle.com/datasets/beatafaron/loan-credit-risk-and-population-stability\">Loan - Credit Risk & Population Stability</a></p>"
   ]
  },
  {
   "cell_type": "code",
   "execution_count": null,
   "metadata": {},
   "outputs": [],
   "source": []
  }
 ],
 "metadata": {
  "kernelspec": {
   "display_name": "myenv",
   "language": "python",
   "name": "python3"
  },
  "language_info": {
   "name": "python",
   "version": "3.12.3"
  }
 },
 "nbformat": 4,
 "nbformat_minor": 2
}
