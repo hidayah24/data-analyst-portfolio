{
 "cells": [
  {
   "cell_type": "markdown",
   "metadata": {},
   "source": [
    "<h1 align=\"center\">Loan - Credit Risk & Population Stability</h1>\n",
    "<h2>About Dataset</h2>\n",
    "<p>Loan - Credit Risk & Population Stability is a part of Lending Club Company public database.\n",
    "LendingClub is a US peer-to-peer lending company, headquartered in San Francisco, California. It was the first peer-to-peer lender to register its offerings as securities with the Securities and Exchange Commission (SEC), and to offer loan trading on a secondary market. LendingClub is the world's largest peer-to-peer lending platform.</p>\n",
    "<p>The data was divided into two parts.</p>\n",
    "<p>The first data (loan_2014-2018.csv) contains almoust 1800 000 consumer loans issued from 2014 to 2018.\n",
    "The second one (loan_2019-2020.csv) is specially separated to check if model have similar characteristics and is still up to date.</p>\n",
    "<strong><p>In this project, I will only use the \"loan_2019-2020.csv\" dataset</p></strong>\n",
    "<h2>Data Source</h2>\n",
    "<p>Kaggle: <a href=\"https://www.kaggle.com/datasets/beatafaron/loan-credit-risk-and-population-stability\">Loan - Credit Risk & Population Stability</a></p>"
   ]
  },
  {
   "cell_type": "code",
   "execution_count": 21,
   "metadata": {},
   "outputs": [],
   "source": [
    "import pandas as pd\n",
    "import pickle\n",
    "import matplotlib.pyplot as plt\n",
    "import seaborn as sns\n",
    "from IPython.display import display"
   ]
  },
  {
   "cell_type": "markdown",
   "metadata": {},
   "source": [
    "# 1. Data Collecting"
   ]
  },
  {
   "cell_type": "markdown",
   "metadata": {},
   "source": [
    "## 1. Understanding Data"
   ]
  },
  {
   "cell_type": "markdown",
   "metadata": {},
   "source": [
    "<strong>Understand what the dataset contains</strong>"
   ]
  },
  {
   "cell_type": "code",
   "execution_count": 7,
   "metadata": {},
   "outputs": [],
   "source": [
    "df_dict = pd.read_excel(\"./datasets/LoanDataDictionary.xlsx\")"
   ]
  },
  {
   "cell_type": "code",
   "execution_count": 3,
   "metadata": {},
   "outputs": [],
   "source": [
    "# Display all rows\n",
    "pd.set_option('display.max_rows', None)\n",
    "pd.set_option('display.max_colwidth', None)"
   ]
  },
  {
   "cell_type": "code",
   "execution_count": 4,
   "metadata": {},
   "outputs": [
    {
     "data": {
      "text/html": [
       "<div>\n",
       "<style scoped>\n",
       "    .dataframe tbody tr th:only-of-type {\n",
       "        vertical-align: middle;\n",
       "    }\n",
       "\n",
       "    .dataframe tbody tr th {\n",
       "        vertical-align: top;\n",
       "    }\n",
       "\n",
       "    .dataframe thead th {\n",
       "        text-align: right;\n",
       "    }\n",
       "</style>\n",
       "<table border=\"1\" class=\"dataframe\">\n",
       "  <thead>\n",
       "    <tr style=\"text-align: right;\">\n",
       "      <th></th>\n",
       "      <th>LoanStatNew</th>\n",
       "      <th>Description</th>\n",
       "    </tr>\n",
       "  </thead>\n",
       "  <tbody>\n",
       "    <tr>\n",
       "      <th>0</th>\n",
       "      <td>acc_now_delinq</td>\n",
       "      <td>The number of accounts on which the borrower is now delinquent.</td>\n",
       "    </tr>\n",
       "    <tr>\n",
       "      <th>1</th>\n",
       "      <td>acc_open_past_24mths</td>\n",
       "      <td>Number of trades opened in past 24 months.</td>\n",
       "    </tr>\n",
       "    <tr>\n",
       "      <th>2</th>\n",
       "      <td>addr_state</td>\n",
       "      <td>The state provided by the borrower in the loan application</td>\n",
       "    </tr>\n",
       "    <tr>\n",
       "      <th>3</th>\n",
       "      <td>all_util</td>\n",
       "      <td>Balance to credit limit on all trades</td>\n",
       "    </tr>\n",
       "    <tr>\n",
       "      <th>4</th>\n",
       "      <td>annual_inc</td>\n",
       "      <td>The self-reported annual income provided by the borrower during registration.</td>\n",
       "    </tr>\n",
       "  </tbody>\n",
       "</table>\n",
       "</div>"
      ],
      "text/plain": [
       "            LoanStatNew  \\\n",
       "0        acc_now_delinq   \n",
       "1  acc_open_past_24mths   \n",
       "2            addr_state   \n",
       "3              all_util   \n",
       "4            annual_inc   \n",
       "\n",
       "                                                                     Description  \n",
       "0                The number of accounts on which the borrower is now delinquent.  \n",
       "1                                     Number of trades opened in past 24 months.  \n",
       "2                     The state provided by the borrower in the loan application  \n",
       "3                                          Balance to credit limit on all trades  \n",
       "4  The self-reported annual income provided by the borrower during registration.  "
      ]
     },
     "metadata": {},
     "output_type": "display_data"
    }
   ],
   "source": [
    "display(df_dict.head())"
   ]
  },
  {
   "cell_type": "code",
   "execution_count": 8,
   "metadata": {},
   "outputs": [
    {
     "data": {
      "text/html": [
       "<div>\n",
       "<style scoped>\n",
       "    .dataframe tbody tr th:only-of-type {\n",
       "        vertical-align: middle;\n",
       "    }\n",
       "\n",
       "    .dataframe tbody tr th {\n",
       "        vertical-align: top;\n",
       "    }\n",
       "\n",
       "    .dataframe thead th {\n",
       "        text-align: right;\n",
       "    }\n",
       "</style>\n",
       "<table border=\"1\" class=\"dataframe\">\n",
       "  <thead>\n",
       "    <tr style=\"text-align: right;\">\n",
       "      <th></th>\n",
       "      <th>LoanStatNew</th>\n",
       "      <th>Description</th>\n",
       "    </tr>\n",
       "  </thead>\n",
       "  <tbody>\n",
       "    <tr>\n",
       "      <th>103</th>\n",
       "      <td>total_cu_tl</td>\n",
       "      <td>Number of finance trades</td>\n",
       "    </tr>\n",
       "  </tbody>\n",
       "</table>\n",
       "</div>"
      ],
      "text/plain": [
       "     LoanStatNew               Description\n",
       "103  total_cu_tl  Number of finance trades"
      ]
     },
     "execution_count": 8,
     "metadata": {},
     "output_type": "execute_result"
    }
   ],
   "source": [
    "df_dict[df_dict['LoanStatNew'] == 'total_cu_tl']"
   ]
  },
  {
   "cell_type": "markdown",
   "metadata": {},
   "source": [
    "## 2. Feature Selection"
   ]
  },
  {
   "cell_type": "markdown",
   "metadata": {},
   "source": [
    "<strong>Conclusion</strong>\n",
    "<p>After understanding the dataset and because the dataset is too large, I will select the features that are relevant to the analysis and create them into a new CSV file. I will choose features:<p>\n",
    "<ul>\n",
    "<li>Will not include outstanding \"loan_status\"</li>\n",
    "<li>The total deselected features are now more than 100 features, due to redundancy, administrative reasons, or simply reflecting the status after the loan has been granted.</li>\n",
    "<li>The best features selected were 53 features, which in my opinion have a direct relationship with the risk of default.</li>\n",
    "</ul>\n",
    "<p>I did not include the grade feature because, this feature is not raw data, but the result of the lender's internal algorithm which has taken into account other factors. The feature grade itself is categorical and has been classified by the lender.</p>"
   ]
  },
  {
   "cell_type": "code",
   "execution_count": 2,
   "metadata": {},
   "outputs": [],
   "source": [
    "selected_features = [\n",
    "    \"acc_now_delinq\",  # 1. Number of accounts currently delinquent\n",
    "    \"all_util\",  # 2. Balance to credit limit ratio on all trades\n",
    "    \"bc_util\",  # 3. Percentage of bankcard credit usage\n",
    "    \"delinq_2yrs\",  # 4. Number of delinquency incidents (30+ days past due) in the last 2 years\n",
    "    \"delinq_amnt\",  # 5. Total past-due amount for delinquent accounts\n",
    "    \"dti\",  # 6. Debt-to-income ratio\n",
    "    \"fico_range_high\",  # 7. Highest FICO score of the borrower\n",
    "    \"fico_range_low\",  # 8. Lowest FICO score of the borrower\n",
    "    \"int_rate\",  # 9. Interest rate of the loan\n",
    "    \"loan_status\",  # 10. Current status of the loan (e.g., charged-off, fully paid, late)\n",
    "    \"num_accts_ever_120_pd\",  # 11. Number of accounts ever 120+ days past due\n",
    "    \"num_tl_120dpd_2m\",  # 12. Number of accounts currently 120+ days past due in the last 2 months\n",
    "    \"num_tl_30dpd\",  # 13. Number of accounts currently 30+ days past due\n",
    "    \"num_tl_90g_dpd_24m\",  # 14. Number of accounts 90+ days past due in the last 24 months\n",
    "    \"mo_sin_old_il_acct\",  # 15. Months since oldest installment account opened\n",
    "    \"mo_sin_old_rev_tl_op\",  # 16. Months since oldest revolving account opened\n",
    "    \"mo_sin_rcnt_rev_tl_op\",  # 17. Months since most recent revolving account opened\n",
    "    \"mo_sin_rcnt_tl\",  # 18. Months since most recent account opened\n",
    "    \"mort_acc\",  # 19. Number of mortgage accounts\n",
    "    \"num_actv_bc_tl\",  # 20. Number of active bankcard accounts\n",
    "    \"num_actv_rev_tl\",  # 21. Number of active revolving accounts\n",
    "    \"num_bc_sats\",  # 22. Number of satisfactory bankcard accounts\n",
    "    \"num_bc_tl\",  # 23. Number of bankcard accounts\n",
    "    \"num_il_tl\",  # 24. Number of installment loan accounts\n",
    "    \"num_op_rev_tl\",  # 25. Number of open revolving accounts\n",
    "    \"num_rev_accts\",  # 26. Number of revolving accounts\n",
    "    \"num_rev_tl_bal_gt_0\",  # 27. Number of revolving trades with a balance greater than 0\n",
    "    \"revol_bal\",  # 28. Total revolving balance\n",
    "    \"revol_util\",  # 29. Revolving credit utilization percentage\n",
    "    \"total_bal_ex_mort\",  # 30. Total balance excluding mortgage\n",
    "    \"total_bc_limit\",  # 31. Total credit limit for bankcards\n",
    "    \"total_il_high_credit_limit\",  # 32. Total high credit limit for installment loans\n",
    "    \"num_sats\",  # 33. Number of satisfactory accounts\n",
    "    \"num_tl_op_past_12m\",  # 34. Number of accounts opened in the past 12 months\n",
    "    \"pct_tl_nvr_dlq\",  # 35. Percentage of trades that were never delinquent\n",
    "    \"percent_bc_gt_75\",  # 36. Percentage of bankcards with balances greater than 75% of the credit limit\n",
    "    \"total_bal_il\",  # 37. Total installment loan balance\n",
    "    \"total_rev_hi_lim\",  # 38. Total revolving high credit limit\n",
    "    \"mths_since_recent_bc_dlq\",  # 39. Months since the last delinquency on a bankcard\n",
    "    \"mths_since_recent_inq\",  # 40. Months since the last credit inquiry\n",
    "    \"mths_since_recent_revol_delinq\",  # 41. Months since the last revolving delinquency\n",
    "    \"num_rev_accts\", # 42. Number of revolving accounts\n",
    "    \"num_op_rev_tl\", # 43. The number of revolving accounts that are still open\n",
    "    \"num_actv_rev_tl\", # 44. Number of active revolving accounts\n",
    "    \"num_bc_sats\", # 45. Number of credit card accounts that are in good standing\n",
    "    \"num_tl_90g_dpd_24m\", # 46. Number of accounts that have experienced delays of more than 90 days in the last 24 months\n",
    "    \"num_tl_op_past_12m\", # 47. Number of credit accounts opened in the last 12 months\n",
    "    \"mo_sin_old_il_acct\", # 48. Length of time since the first installment account was opened\n",
    "    \"mo_sin_rcnt_tl\", # 49. Length of time since the latest credit account was opened\n",
    "    \"num_il_tl\", # 50. Number of installment accounts\n",
    "    \"num_tl_30dpd\", # 51. The number of accounts experiencing delays of more than 30 days at this time\n",
    "    \"num_tl_120dpd_2m\", # 52. Number of accounts that are more than 120 days late in the last 2 months\n",
    "    \"num_bc_tl\", # 53. Total number of credit card accounts\n",
    "    \"hardship_dpd\", # 54. Indicates whether the borrower experienced significant delays before requesting assistance.\n",
    "    \"verification_status\", # 55. Income verification status can affect the risk of payment default.\n",
    "]"
   ]
  },
  {
   "cell_type": "markdown",
   "metadata": {},
   "source": [
    "## 3. Filtering Feature"
   ]
  },
  {
   "cell_type": "code",
   "execution_count": 3,
   "metadata": {},
   "outputs": [
    {
     "name": "stderr",
     "output_type": "stream",
     "text": [
      "/tmp/ipykernel_4343/2217548607.py:1: DtypeWarning: Columns (137) have mixed types. Specify dtype option on import or set low_memory=False.\n",
      "  df = pd.read_csv(\"./datasets/loan_2019_20.csv\")\n"
     ]
    }
   ],
   "source": [
    "df = pd.read_csv(\"./datasets/loan_2019_20.csv\")"
   ]
  },
  {
   "cell_type": "code",
   "execution_count": 4,
   "metadata": {},
   "outputs": [
    {
     "data": {
      "text/plain": [
       "(664824, 142)"
      ]
     },
     "execution_count": 4,
     "metadata": {},
     "output_type": "execute_result"
    }
   ],
   "source": [
    "df.shape"
   ]
  },
  {
   "cell_type": "code",
   "execution_count": 5,
   "metadata": {},
   "outputs": [
    {
     "data": {
      "text/plain": [
       "(664824, 55)"
      ]
     },
     "execution_count": 5,
     "metadata": {},
     "output_type": "execute_result"
    }
   ],
   "source": [
    "df = df.loc[:,selected_features]\n",
    "df.shape"
   ]
  },
  {
   "cell_type": "code",
   "execution_count": 6,
   "metadata": {},
   "outputs": [
    {
     "data": {
      "text/plain": [
       "array(['Current', 'Fully Paid', 'Charged Off', 'Late (31-120 days)',\n",
       "       'In Grace Period', 'Late (16-30 days)', 'Default', 'Issued'],\n",
       "      dtype=object)"
      ]
     },
     "execution_count": 6,
     "metadata": {},
     "output_type": "execute_result"
    }
   ],
   "source": [
    "df['loan_status'].unique()"
   ]
  },
  {
   "cell_type": "code",
   "execution_count": 6,
   "metadata": {},
   "outputs": [
    {
     "data": {
      "text/plain": [
       "(93956, 55)"
      ]
     },
     "execution_count": 6,
     "metadata": {},
     "output_type": "execute_result"
    }
   ],
   "source": [
    "df = df[df['loan_status'] != 'Current']\n",
    "df.shape"
   ]
  },
  {
   "cell_type": "code",
   "execution_count": 8,
   "metadata": {},
   "outputs": [
    {
     "data": {
      "text/html": [
       "<div>\n",
       "<style scoped>\n",
       "    .dataframe tbody tr th:only-of-type {\n",
       "        vertical-align: middle;\n",
       "    }\n",
       "\n",
       "    .dataframe tbody tr th {\n",
       "        vertical-align: top;\n",
       "    }\n",
       "\n",
       "    .dataframe thead th {\n",
       "        text-align: right;\n",
       "    }\n",
       "</style>\n",
       "<table border=\"1\" class=\"dataframe\">\n",
       "  <thead>\n",
       "    <tr style=\"text-align: right;\">\n",
       "      <th></th>\n",
       "      <th>acc_now_delinq</th>\n",
       "      <th>all_util</th>\n",
       "      <th>bc_util</th>\n",
       "      <th>delinq_2yrs</th>\n",
       "      <th>delinq_amnt</th>\n",
       "      <th>dti</th>\n",
       "      <th>fico_range_high</th>\n",
       "      <th>fico_range_low</th>\n",
       "      <th>int_rate</th>\n",
       "      <th>loan_status</th>\n",
       "      <th>...</th>\n",
       "      <th>num_actv_rev_tl</th>\n",
       "      <th>num_bc_sats</th>\n",
       "      <th>num_tl_90g_dpd_24m</th>\n",
       "      <th>num_tl_op_past_12m</th>\n",
       "      <th>mo_sin_old_il_acct</th>\n",
       "      <th>mo_sin_rcnt_tl</th>\n",
       "      <th>num_il_tl</th>\n",
       "      <th>num_tl_30dpd</th>\n",
       "      <th>num_tl_120dpd_2m</th>\n",
       "      <th>num_bc_tl</th>\n",
       "    </tr>\n",
       "  </thead>\n",
       "  <tbody>\n",
       "    <tr>\n",
       "      <th>9</th>\n",
       "      <td>0.0</td>\n",
       "      <td>72.0</td>\n",
       "      <td>97.6</td>\n",
       "      <td>0.0</td>\n",
       "      <td>0.0</td>\n",
       "      <td>11.88</td>\n",
       "      <td>669.0</td>\n",
       "      <td>665.0</td>\n",
       "      <td>17.19%</td>\n",
       "      <td>Fully Paid</td>\n",
       "      <td>...</td>\n",
       "      <td>4.0</td>\n",
       "      <td>2.0</td>\n",
       "      <td>0.0</td>\n",
       "      <td>3.0</td>\n",
       "      <td>164.0</td>\n",
       "      <td>7.0</td>\n",
       "      <td>7.0</td>\n",
       "      <td>0.0</td>\n",
       "      <td>0.0</td>\n",
       "      <td>5.0</td>\n",
       "    </tr>\n",
       "    <tr>\n",
       "      <th>20</th>\n",
       "      <td>0.0</td>\n",
       "      <td>17.0</td>\n",
       "      <td>2.0</td>\n",
       "      <td>0.0</td>\n",
       "      <td>0.0</td>\n",
       "      <td>14.73</td>\n",
       "      <td>769.0</td>\n",
       "      <td>765.0</td>\n",
       "      <td>7.56%</td>\n",
       "      <td>Fully Paid</td>\n",
       "      <td>...</td>\n",
       "      <td>5.0</td>\n",
       "      <td>9.0</td>\n",
       "      <td>0.0</td>\n",
       "      <td>1.0</td>\n",
       "      <td>107.0</td>\n",
       "      <td>2.0</td>\n",
       "      <td>6.0</td>\n",
       "      <td>0.0</td>\n",
       "      <td>0.0</td>\n",
       "      <td>12.0</td>\n",
       "    </tr>\n",
       "    <tr>\n",
       "      <th>22</th>\n",
       "      <td>0.0</td>\n",
       "      <td>76.0</td>\n",
       "      <td>77.3</td>\n",
       "      <td>0.0</td>\n",
       "      <td>0.0</td>\n",
       "      <td>25.48</td>\n",
       "      <td>694.0</td>\n",
       "      <td>690.0</td>\n",
       "      <td>14.74%</td>\n",
       "      <td>Charged Off</td>\n",
       "      <td>...</td>\n",
       "      <td>10.0</td>\n",
       "      <td>8.0</td>\n",
       "      <td>0.0</td>\n",
       "      <td>3.0</td>\n",
       "      <td>171.0</td>\n",
       "      <td>1.0</td>\n",
       "      <td>14.0</td>\n",
       "      <td>0.0</td>\n",
       "      <td>0.0</td>\n",
       "      <td>12.0</td>\n",
       "    </tr>\n",
       "    <tr>\n",
       "      <th>31</th>\n",
       "      <td>0.0</td>\n",
       "      <td>69.0</td>\n",
       "      <td>68.8</td>\n",
       "      <td>4.0</td>\n",
       "      <td>0.0</td>\n",
       "      <td>6.46</td>\n",
       "      <td>669.0</td>\n",
       "      <td>665.0</td>\n",
       "      <td>20.00%</td>\n",
       "      <td>Fully Paid</td>\n",
       "      <td>...</td>\n",
       "      <td>4.0</td>\n",
       "      <td>4.0</td>\n",
       "      <td>3.0</td>\n",
       "      <td>0.0</td>\n",
       "      <td>NaN</td>\n",
       "      <td>27.0</td>\n",
       "      <td>0.0</td>\n",
       "      <td>0.0</td>\n",
       "      <td>0.0</td>\n",
       "      <td>7.0</td>\n",
       "    </tr>\n",
       "    <tr>\n",
       "      <th>32</th>\n",
       "      <td>0.0</td>\n",
       "      <td>40.0</td>\n",
       "      <td>26.0</td>\n",
       "      <td>0.0</td>\n",
       "      <td>0.0</td>\n",
       "      <td>17.00</td>\n",
       "      <td>734.0</td>\n",
       "      <td>730.0</td>\n",
       "      <td>12.40%</td>\n",
       "      <td>Fully Paid</td>\n",
       "      <td>...</td>\n",
       "      <td>3.0</td>\n",
       "      <td>3.0</td>\n",
       "      <td>0.0</td>\n",
       "      <td>2.0</td>\n",
       "      <td>238.0</td>\n",
       "      <td>7.0</td>\n",
       "      <td>11.0</td>\n",
       "      <td>0.0</td>\n",
       "      <td>0.0</td>\n",
       "      <td>4.0</td>\n",
       "    </tr>\n",
       "  </tbody>\n",
       "</table>\n",
       "<p>5 rows × 53 columns</p>\n",
       "</div>"
      ],
      "text/plain": [
       "    acc_now_delinq  all_util  bc_util  delinq_2yrs  delinq_amnt    dti  \\\n",
       "9              0.0      72.0     97.6          0.0          0.0  11.88   \n",
       "20             0.0      17.0      2.0          0.0          0.0  14.73   \n",
       "22             0.0      76.0     77.3          0.0          0.0  25.48   \n",
       "31             0.0      69.0     68.8          4.0          0.0   6.46   \n",
       "32             0.0      40.0     26.0          0.0          0.0  17.00   \n",
       "\n",
       "    fico_range_high  fico_range_low int_rate  loan_status  ...  \\\n",
       "9             669.0           665.0   17.19%   Fully Paid  ...   \n",
       "20            769.0           765.0    7.56%   Fully Paid  ...   \n",
       "22            694.0           690.0   14.74%  Charged Off  ...   \n",
       "31            669.0           665.0   20.00%   Fully Paid  ...   \n",
       "32            734.0           730.0   12.40%   Fully Paid  ...   \n",
       "\n",
       "    num_actv_rev_tl  num_bc_sats  num_tl_90g_dpd_24m  num_tl_op_past_12m  \\\n",
       "9               4.0          2.0                 0.0                 3.0   \n",
       "20              5.0          9.0                 0.0                 1.0   \n",
       "22             10.0          8.0                 0.0                 3.0   \n",
       "31              4.0          4.0                 3.0                 0.0   \n",
       "32              3.0          3.0                 0.0                 2.0   \n",
       "\n",
       "    mo_sin_old_il_acct  mo_sin_rcnt_tl  num_il_tl  num_tl_30dpd  \\\n",
       "9                164.0             7.0        7.0           0.0   \n",
       "20               107.0             2.0        6.0           0.0   \n",
       "22               171.0             1.0       14.0           0.0   \n",
       "31                 NaN            27.0        0.0           0.0   \n",
       "32               238.0             7.0       11.0           0.0   \n",
       "\n",
       "    num_tl_120dpd_2m  num_bc_tl  \n",
       "9                0.0        5.0  \n",
       "20               0.0       12.0  \n",
       "22               0.0       12.0  \n",
       "31               0.0        7.0  \n",
       "32               0.0        4.0  \n",
       "\n",
       "[5 rows x 53 columns]"
      ]
     },
     "execution_count": 8,
     "metadata": {},
     "output_type": "execute_result"
    }
   ],
   "source": [
    "df.head()"
   ]
  },
  {
   "cell_type": "code",
   "execution_count": 7,
   "metadata": {},
   "outputs": [],
   "source": [
    "df.to_csv('./datasets/loan_2019_20_filtered.csv', index=False)"
   ]
  },
  {
   "cell_type": "markdown",
   "metadata": {},
   "source": [
    "<p><strong>Note: </strong>The filter is done by not including loan_status with the value 'Current' because I will analyze data that has already been completed. Then I saved it into a new CSV file to make it easier in the future.</p>"
   ]
  },
  {
   "cell_type": "markdown",
   "metadata": {},
   "source": [
    "# 2. Data Preprocessing"
   ]
  },
  {
   "cell_type": "code",
   "execution_count": 2,
   "metadata": {},
   "outputs": [
    {
     "data": {
      "text/html": [
       "<div>\n",
       "<style scoped>\n",
       "    .dataframe tbody tr th:only-of-type {\n",
       "        vertical-align: middle;\n",
       "    }\n",
       "\n",
       "    .dataframe tbody tr th {\n",
       "        vertical-align: top;\n",
       "    }\n",
       "\n",
       "    .dataframe thead th {\n",
       "        text-align: right;\n",
       "    }\n",
       "</style>\n",
       "<table border=\"1\" class=\"dataframe\">\n",
       "  <thead>\n",
       "    <tr style=\"text-align: right;\">\n",
       "      <th></th>\n",
       "      <th>acc_now_delinq</th>\n",
       "      <th>all_util</th>\n",
       "      <th>bc_util</th>\n",
       "      <th>delinq_2yrs</th>\n",
       "      <th>delinq_amnt</th>\n",
       "      <th>dti</th>\n",
       "      <th>fico_range_high</th>\n",
       "      <th>fico_range_low</th>\n",
       "      <th>int_rate</th>\n",
       "      <th>loan_status</th>\n",
       "      <th>...</th>\n",
       "      <th>num_tl_90g_dpd_24m.1</th>\n",
       "      <th>num_tl_op_past_12m.1</th>\n",
       "      <th>mo_sin_old_il_acct.1</th>\n",
       "      <th>mo_sin_rcnt_tl.1</th>\n",
       "      <th>num_il_tl.1</th>\n",
       "      <th>num_tl_30dpd.1</th>\n",
       "      <th>num_tl_120dpd_2m.1</th>\n",
       "      <th>num_bc_tl.1</th>\n",
       "      <th>hardship_dpd</th>\n",
       "      <th>verification_status</th>\n",
       "    </tr>\n",
       "  </thead>\n",
       "  <tbody>\n",
       "    <tr>\n",
       "      <th>0</th>\n",
       "      <td>0.0</td>\n",
       "      <td>72.0</td>\n",
       "      <td>97.6</td>\n",
       "      <td>0.0</td>\n",
       "      <td>0.0</td>\n",
       "      <td>11.88</td>\n",
       "      <td>669.0</td>\n",
       "      <td>665.0</td>\n",
       "      <td>17.19%</td>\n",
       "      <td>Fully Paid</td>\n",
       "      <td>...</td>\n",
       "      <td>0.0</td>\n",
       "      <td>3.0</td>\n",
       "      <td>164.0</td>\n",
       "      <td>7.0</td>\n",
       "      <td>7.0</td>\n",
       "      <td>0.0</td>\n",
       "      <td>0.0</td>\n",
       "      <td>5.0</td>\n",
       "      <td>NaN</td>\n",
       "      <td>Source Verified</td>\n",
       "    </tr>\n",
       "    <tr>\n",
       "      <th>1</th>\n",
       "      <td>0.0</td>\n",
       "      <td>17.0</td>\n",
       "      <td>2.0</td>\n",
       "      <td>0.0</td>\n",
       "      <td>0.0</td>\n",
       "      <td>14.73</td>\n",
       "      <td>769.0</td>\n",
       "      <td>765.0</td>\n",
       "      <td>7.56%</td>\n",
       "      <td>Fully Paid</td>\n",
       "      <td>...</td>\n",
       "      <td>0.0</td>\n",
       "      <td>1.0</td>\n",
       "      <td>107.0</td>\n",
       "      <td>2.0</td>\n",
       "      <td>6.0</td>\n",
       "      <td>0.0</td>\n",
       "      <td>0.0</td>\n",
       "      <td>12.0</td>\n",
       "      <td>NaN</td>\n",
       "      <td>Not Verified</td>\n",
       "    </tr>\n",
       "    <tr>\n",
       "      <th>2</th>\n",
       "      <td>0.0</td>\n",
       "      <td>76.0</td>\n",
       "      <td>77.3</td>\n",
       "      <td>0.0</td>\n",
       "      <td>0.0</td>\n",
       "      <td>25.48</td>\n",
       "      <td>694.0</td>\n",
       "      <td>690.0</td>\n",
       "      <td>14.74%</td>\n",
       "      <td>Charged Off</td>\n",
       "      <td>...</td>\n",
       "      <td>0.0</td>\n",
       "      <td>3.0</td>\n",
       "      <td>171.0</td>\n",
       "      <td>1.0</td>\n",
       "      <td>14.0</td>\n",
       "      <td>0.0</td>\n",
       "      <td>0.0</td>\n",
       "      <td>12.0</td>\n",
       "      <td>NaN</td>\n",
       "      <td>Not Verified</td>\n",
       "    </tr>\n",
       "    <tr>\n",
       "      <th>3</th>\n",
       "      <td>0.0</td>\n",
       "      <td>69.0</td>\n",
       "      <td>68.8</td>\n",
       "      <td>4.0</td>\n",
       "      <td>0.0</td>\n",
       "      <td>6.46</td>\n",
       "      <td>669.0</td>\n",
       "      <td>665.0</td>\n",
       "      <td>20.00%</td>\n",
       "      <td>Fully Paid</td>\n",
       "      <td>...</td>\n",
       "      <td>3.0</td>\n",
       "      <td>0.0</td>\n",
       "      <td>NaN</td>\n",
       "      <td>27.0</td>\n",
       "      <td>0.0</td>\n",
       "      <td>0.0</td>\n",
       "      <td>0.0</td>\n",
       "      <td>7.0</td>\n",
       "      <td>NaN</td>\n",
       "      <td>Not Verified</td>\n",
       "    </tr>\n",
       "    <tr>\n",
       "      <th>4</th>\n",
       "      <td>0.0</td>\n",
       "      <td>40.0</td>\n",
       "      <td>26.0</td>\n",
       "      <td>0.0</td>\n",
       "      <td>0.0</td>\n",
       "      <td>17.00</td>\n",
       "      <td>734.0</td>\n",
       "      <td>730.0</td>\n",
       "      <td>12.40%</td>\n",
       "      <td>Fully Paid</td>\n",
       "      <td>...</td>\n",
       "      <td>0.0</td>\n",
       "      <td>2.0</td>\n",
       "      <td>238.0</td>\n",
       "      <td>7.0</td>\n",
       "      <td>11.0</td>\n",
       "      <td>0.0</td>\n",
       "      <td>0.0</td>\n",
       "      <td>4.0</td>\n",
       "      <td>NaN</td>\n",
       "      <td>Not Verified</td>\n",
       "    </tr>\n",
       "  </tbody>\n",
       "</table>\n",
       "<p>5 rows × 55 columns</p>\n",
       "</div>"
      ],
      "text/plain": [
       "   acc_now_delinq  all_util  bc_util  delinq_2yrs  delinq_amnt    dti  \\\n",
       "0             0.0      72.0     97.6          0.0          0.0  11.88   \n",
       "1             0.0      17.0      2.0          0.0          0.0  14.73   \n",
       "2             0.0      76.0     77.3          0.0          0.0  25.48   \n",
       "3             0.0      69.0     68.8          4.0          0.0   6.46   \n",
       "4             0.0      40.0     26.0          0.0          0.0  17.00   \n",
       "\n",
       "   fico_range_high  fico_range_low int_rate  loan_status  ...  \\\n",
       "0            669.0           665.0   17.19%   Fully Paid  ...   \n",
       "1            769.0           765.0    7.56%   Fully Paid  ...   \n",
       "2            694.0           690.0   14.74%  Charged Off  ...   \n",
       "3            669.0           665.0   20.00%   Fully Paid  ...   \n",
       "4            734.0           730.0   12.40%   Fully Paid  ...   \n",
       "\n",
       "   num_tl_90g_dpd_24m.1  num_tl_op_past_12m.1  mo_sin_old_il_acct.1  \\\n",
       "0                   0.0                   3.0                 164.0   \n",
       "1                   0.0                   1.0                 107.0   \n",
       "2                   0.0                   3.0                 171.0   \n",
       "3                   3.0                   0.0                   NaN   \n",
       "4                   0.0                   2.0                 238.0   \n",
       "\n",
       "   mo_sin_rcnt_tl.1  num_il_tl.1  num_tl_30dpd.1  num_tl_120dpd_2m.1  \\\n",
       "0               7.0          7.0             0.0                 0.0   \n",
       "1               2.0          6.0             0.0                 0.0   \n",
       "2               1.0         14.0             0.0                 0.0   \n",
       "3              27.0          0.0             0.0                 0.0   \n",
       "4               7.0         11.0             0.0                 0.0   \n",
       "\n",
       "   num_bc_tl.1  hardship_dpd  verification_status  \n",
       "0          5.0           NaN      Source Verified  \n",
       "1         12.0           NaN         Not Verified  \n",
       "2         12.0           NaN         Not Verified  \n",
       "3          7.0           NaN         Not Verified  \n",
       "4          4.0           NaN         Not Verified  \n",
       "\n",
       "[5 rows x 55 columns]"
      ]
     },
     "execution_count": 2,
     "metadata": {},
     "output_type": "execute_result"
    }
   ],
   "source": [
    "df = pd.read_csv(\"./datasets/loan_2019_20_filtered.csv\")\n",
    "df.head()"
   ]
  },
  {
   "cell_type": "markdown",
   "metadata": {},
   "source": [
    "## 1. Missing Value"
   ]
  },
  {
   "cell_type": "code",
   "execution_count": 3,
   "metadata": {},
   "outputs": [
    {
     "data": {
      "text/html": [
       "<div>\n",
       "<style scoped>\n",
       "    .dataframe tbody tr th:only-of-type {\n",
       "        vertical-align: middle;\n",
       "    }\n",
       "\n",
       "    .dataframe tbody tr th {\n",
       "        vertical-align: top;\n",
       "    }\n",
       "\n",
       "    .dataframe thead th {\n",
       "        text-align: right;\n",
       "    }\n",
       "</style>\n",
       "<table border=\"1\" class=\"dataframe\">\n",
       "  <thead>\n",
       "    <tr style=\"text-align: right;\">\n",
       "      <th></th>\n",
       "      <th>Missing Values</th>\n",
       "      <th>Percentage (%)</th>\n",
       "    </tr>\n",
       "  </thead>\n",
       "  <tbody>\n",
       "    <tr>\n",
       "      <th>all_util</th>\n",
       "      <td>32</td>\n",
       "      <td>0.034058</td>\n",
       "    </tr>\n",
       "    <tr>\n",
       "      <th>bc_util</th>\n",
       "      <td>1486</td>\n",
       "      <td>1.581591</td>\n",
       "    </tr>\n",
       "    <tr>\n",
       "      <th>dti</th>\n",
       "      <td>239</td>\n",
       "      <td>0.254374</td>\n",
       "    </tr>\n",
       "    <tr>\n",
       "      <th>num_tl_120dpd_2m</th>\n",
       "      <td>1742</td>\n",
       "      <td>1.854059</td>\n",
       "    </tr>\n",
       "    <tr>\n",
       "      <th>mo_sin_old_il_acct</th>\n",
       "      <td>2259</td>\n",
       "      <td>2.404317</td>\n",
       "    </tr>\n",
       "    <tr>\n",
       "      <th>revol_util</th>\n",
       "      <td>168</td>\n",
       "      <td>0.178807</td>\n",
       "    </tr>\n",
       "    <tr>\n",
       "      <th>percent_bc_gt_75</th>\n",
       "      <td>1441</td>\n",
       "      <td>1.533697</td>\n",
       "    </tr>\n",
       "    <tr>\n",
       "      <th>mths_since_recent_bc_dlq</th>\n",
       "      <td>74687</td>\n",
       "      <td>79.491464</td>\n",
       "    </tr>\n",
       "    <tr>\n",
       "      <th>mths_since_recent_inq</th>\n",
       "      <td>7821</td>\n",
       "      <td>8.324109</td>\n",
       "    </tr>\n",
       "    <tr>\n",
       "      <th>mths_since_recent_revol_delinq</th>\n",
       "      <td>66246</td>\n",
       "      <td>70.507472</td>\n",
       "    </tr>\n",
       "    <tr>\n",
       "      <th>mo_sin_old_il_acct.1</th>\n",
       "      <td>2259</td>\n",
       "      <td>2.404317</td>\n",
       "    </tr>\n",
       "    <tr>\n",
       "      <th>num_tl_120dpd_2m.1</th>\n",
       "      <td>1742</td>\n",
       "      <td>1.854059</td>\n",
       "    </tr>\n",
       "    <tr>\n",
       "      <th>hardship_dpd</th>\n",
       "      <td>91381</td>\n",
       "      <td>97.259355</td>\n",
       "    </tr>\n",
       "  </tbody>\n",
       "</table>\n",
       "</div>"
      ],
      "text/plain": [
       "                                Missing Values  Percentage (%)\n",
       "all_util                                    32        0.034058\n",
       "bc_util                                   1486        1.581591\n",
       "dti                                        239        0.254374\n",
       "num_tl_120dpd_2m                          1742        1.854059\n",
       "mo_sin_old_il_acct                        2259        2.404317\n",
       "revol_util                                 168        0.178807\n",
       "percent_bc_gt_75                          1441        1.533697\n",
       "mths_since_recent_bc_dlq                 74687       79.491464\n",
       "mths_since_recent_inq                     7821        8.324109\n",
       "mths_since_recent_revol_delinq           66246       70.507472\n",
       "mo_sin_old_il_acct.1                      2259        2.404317\n",
       "num_tl_120dpd_2m.1                        1742        1.854059\n",
       "hardship_dpd                             91381       97.259355"
      ]
     },
     "execution_count": 3,
     "metadata": {},
     "output_type": "execute_result"
    }
   ],
   "source": [
    "missing_values = df.isnull().sum()\n",
    "missing_values = missing_values[missing_values > 0]\n",
    "missing_percentage = (missing_values / len(df)) * 100\n",
    "missing_info = pd.DataFrame({'Missing Values': missing_values, 'Percentage (%)': missing_percentage})\n",
    "missing_info"
   ]
  },
  {
   "cell_type": "markdown",
   "metadata": {},
   "source": [
    "The features mths_since_recent_bc_dlq and mths_since_recent_revol_delinq will be the main concern in handling missing values ​​because they have a high percentage, namely 70% and 79%. This value is very reasonable because these two features contain the last time a customer experienced a payment delay, which means the value is empty or NaN has never been delayed so it must be handled carefully."
   ]
  },
  {
   "cell_type": "code",
   "execution_count": 4,
   "metadata": {},
   "outputs": [],
   "source": [
    "def categorize_delinquency(months):\n",
    "    if pd.isna(months):  # Never late\n",
    "        return 0\n",
    "    elif months <= 6:  # Just late\n",
    "        return 1\n",
    "    elif months <= 12:  # Delayed in the last 7-12 months\n",
    "        return 2\n",
    "    elif months <= 24:  # It's been quite a while since the last late one\n",
    "        return 3\n",
    "    else:  # It's been over 2 years since the last delay\n",
    "        return 4"
   ]
  },
  {
   "cell_type": "code",
   "execution_count": 5,
   "metadata": {},
   "outputs": [],
   "source": [
    "df[\"revol_delinq_category\"] = df[\"mths_since_recent_revol_delinq\"].apply(categorize_delinquency)\n",
    "df[\"bc_delinq_category\"] = df[\"mths_since_recent_bc_dlq\"].apply(categorize_delinquency)\n",
    "df.drop(columns=['mths_since_recent_revol_delinq','mths_since_recent_bc_dlq'], inplace=True)"
   ]
  },
  {
   "cell_type": "markdown",
   "metadata": {},
   "source": [
    "<p>To handle these two features, I did not delete the two features even though many values ​​were lost because they would be very meaningful so I did not delete them.</p>\n",
    "<p>I prefer to create a new column to handle this where:</p>\n",
    "<ul>\n",
    "<li>0 = Never late</li>\n",
    "<li>1 = Just late</li>\n",
    "<li>2 = Delayed in the last 7-12 months</li>\n",
    "<li>3 = It's been quite a while since the last late one</li>\n",
    "<li>4 = It's been over 2 years since the last delay</li>\n",
    "</ul>\n",
    "I think this will be more objective and will be useful for future analysis."
   ]
  },
  {
   "cell_type": "code",
   "execution_count": 6,
   "metadata": {},
   "outputs": [
    {
     "name": "stderr",
     "output_type": "stream",
     "text": [
      "/tmp/ipykernel_7944/1932300693.py:2: FutureWarning: A value is trying to be set on a copy of a DataFrame or Series through chained assignment using an inplace method.\n",
      "The behavior will change in pandas 3.0. This inplace method will never work because the intermediate object on which we are setting values always behaves as a copy.\n",
      "\n",
      "For example, when doing 'df[col].method(value, inplace=True)', try using 'df.method({col: value}, inplace=True)' or df[col] = df[col].method(value) instead, to perform the operation inplace on the original object.\n",
      "\n",
      "\n",
      "  df[\"mths_since_recent_inq\"].fillna(max_value, inplace=True)\n"
     ]
    }
   ],
   "source": [
    "max_value = df[\"mths_since_recent_inq\"].max()\n",
    "df[\"mths_since_recent_inq\"].fillna(max_value, inplace=True)"
   ]
  },
  {
   "cell_type": "markdown",
   "metadata": {},
   "source": [
    "<p>mths_since_recent_inq, this feature shows the number of months since the borrower last submitted a new credit application (credit inquiry)</p>\n",
    "<p>So to fill in the missing value with 999 which shows that the borrower has never applied for new credit.</p>"
   ]
  },
  {
   "cell_type": "code",
   "execution_count": 7,
   "metadata": {},
   "outputs": [
    {
     "data": {
      "text/html": [
       "<div>\n",
       "<style scoped>\n",
       "    .dataframe tbody tr th:only-of-type {\n",
       "        vertical-align: middle;\n",
       "    }\n",
       "\n",
       "    .dataframe tbody tr th {\n",
       "        vertical-align: top;\n",
       "    }\n",
       "\n",
       "    .dataframe thead th {\n",
       "        text-align: right;\n",
       "    }\n",
       "</style>\n",
       "<table border=\"1\" class=\"dataframe\">\n",
       "  <thead>\n",
       "    <tr style=\"text-align: right;\">\n",
       "      <th></th>\n",
       "      <th>mo_sin_old_il_acct</th>\n",
       "      <th>mo_sin_old_il_acct.1</th>\n",
       "    </tr>\n",
       "  </thead>\n",
       "  <tbody>\n",
       "    <tr>\n",
       "      <th>mo_sin_old_il_acct</th>\n",
       "      <td>1.0</td>\n",
       "      <td>1.0</td>\n",
       "    </tr>\n",
       "    <tr>\n",
       "      <th>mo_sin_old_il_acct.1</th>\n",
       "      <td>1.0</td>\n",
       "      <td>1.0</td>\n",
       "    </tr>\n",
       "  </tbody>\n",
       "</table>\n",
       "</div>"
      ],
      "text/plain": [
       "                      mo_sin_old_il_acct  mo_sin_old_il_acct.1\n",
       "mo_sin_old_il_acct                   1.0                   1.0\n",
       "mo_sin_old_il_acct.1                 1.0                   1.0"
      ]
     },
     "execution_count": 7,
     "metadata": {},
     "output_type": "execute_result"
    }
   ],
   "source": [
    "df[[\"mo_sin_old_il_acct\", \"mo_sin_old_il_acct.1\"]].corr()\n"
   ]
  },
  {
   "cell_type": "code",
   "execution_count": 8,
   "metadata": {},
   "outputs": [],
   "source": [
    "df.drop(columns=['mo_sin_old_il_acct.1'], inplace=True)"
   ]
  },
  {
   "cell_type": "markdown",
   "metadata": {},
   "source": [
    "<p>Because the features mo_sin_old_il_acct and mo_sin_old_il_acct.1 have similar names, I checked whether the two features were identical. The results said that one of these features was duplicated, so I deleted one of the features.</p>"
   ]
  },
  {
   "cell_type": "code",
   "execution_count": 9,
   "metadata": {},
   "outputs": [
    {
     "name": "stderr",
     "output_type": "stream",
     "text": [
      "/tmp/ipykernel_7944/818717687.py:1: FutureWarning: A value is trying to be set on a copy of a DataFrame or Series through chained assignment using an inplace method.\n",
      "The behavior will change in pandas 3.0. This inplace method will never work because the intermediate object on which we are setting values always behaves as a copy.\n",
      "\n",
      "For example, when doing 'df[col].method(value, inplace=True)', try using 'df.method({col: value}, inplace=True)' or df[col] = df[col].method(value) instead, to perform the operation inplace on the original object.\n",
      "\n",
      "\n",
      "  df[\"mo_sin_old_il_acct\"].fillna(0, inplace=True)\n",
      "/tmp/ipykernel_7944/818717687.py:2: FutureWarning: A value is trying to be set on a copy of a DataFrame or Series through chained assignment using an inplace method.\n",
      "The behavior will change in pandas 3.0. This inplace method will never work because the intermediate object on which we are setting values always behaves as a copy.\n",
      "\n",
      "For example, when doing 'df[col].method(value, inplace=True)', try using 'df.method({col: value}, inplace=True)' or df[col] = df[col].method(value) instead, to perform the operation inplace on the original object.\n",
      "\n",
      "\n",
      "  df[\"percent_bc_gt_75\"].fillna(0, inplace=True)\n",
      "/tmp/ipykernel_7944/818717687.py:3: FutureWarning: A value is trying to be set on a copy of a DataFrame or Series through chained assignment using an inplace method.\n",
      "The behavior will change in pandas 3.0. This inplace method will never work because the intermediate object on which we are setting values always behaves as a copy.\n",
      "\n",
      "For example, when doing 'df[col].method(value, inplace=True)', try using 'df.method({col: value}, inplace=True)' or df[col] = df[col].method(value) instead, to perform the operation inplace on the original object.\n",
      "\n",
      "\n",
      "  df[\"all_util\"].fillna(0, inplace=True)\n",
      "/tmp/ipykernel_7944/818717687.py:4: FutureWarning: A value is trying to be set on a copy of a DataFrame or Series through chained assignment using an inplace method.\n",
      "The behavior will change in pandas 3.0. This inplace method will never work because the intermediate object on which we are setting values always behaves as a copy.\n",
      "\n",
      "For example, when doing 'df[col].method(value, inplace=True)', try using 'df.method({col: value}, inplace=True)' or df[col] = df[col].method(value) instead, to perform the operation inplace on the original object.\n",
      "\n",
      "\n",
      "  df[\"bc_util\"].fillna(0, inplace=True)\n",
      "/tmp/ipykernel_7944/818717687.py:5: FutureWarning: A value is trying to be set on a copy of a DataFrame or Series through chained assignment using an inplace method.\n",
      "The behavior will change in pandas 3.0. This inplace method will never work because the intermediate object on which we are setting values always behaves as a copy.\n",
      "\n",
      "For example, when doing 'df[col].method(value, inplace=True)', try using 'df.method({col: value}, inplace=True)' or df[col] = df[col].method(value) instead, to perform the operation inplace on the original object.\n",
      "\n",
      "\n",
      "  df[\"revol_util\"].fillna('0%', inplace=True)\n",
      "/tmp/ipykernel_7944/818717687.py:6: FutureWarning: A value is trying to be set on a copy of a DataFrame or Series through chained assignment using an inplace method.\n",
      "The behavior will change in pandas 3.0. This inplace method will never work because the intermediate object on which we are setting values always behaves as a copy.\n",
      "\n",
      "For example, when doing 'df[col].method(value, inplace=True)', try using 'df.method({col: value}, inplace=True)' or df[col] = df[col].method(value) instead, to perform the operation inplace on the original object.\n",
      "\n",
      "\n",
      "  df['dti'].fillna(0, inplace=True)\n"
     ]
    }
   ],
   "source": [
    "df[\"mo_sin_old_il_acct\"].fillna(0, inplace=True)\n",
    "df[\"percent_bc_gt_75\"].fillna(0, inplace=True)\n",
    "df[\"all_util\"].fillna(0, inplace=True)\n",
    "df[\"bc_util\"].fillna(0, inplace=True)\n",
    "df[\"revol_util\"].fillna('0%', inplace=True)\n",
    "df['dti'].fillna(0, inplace=True)"
   ]
  },
  {
   "cell_type": "markdown",
   "metadata": {},
   "source": [
    "<table boreder=\"1\">\n",
    "<tr>\n",
    "<th>Feature</th>\n",
    "<th>Filled with</th>\n",
    "<th>Reason</th>\n",
    "</tr>\n",
    "<tr>\n",
    "<th>mo_sin_old_il_acct</th>\n",
    "<th>0</th>\n",
    "<th>The borrower does not have an installment account, so the age of the oldest installment account is 0 months.</th>\n",
    "</tr>\n",
    "<tr>\n",
    "<th>percent_bc_gt_75</th>\n",
    "<th>0</th>\n",
    "<th>The borrower does not have a credit card or no card is used >75% of the limit.</th>\n",
    "</tr>\n",
    "<tr>\n",
    "<th>all_util</th>\n",
    "<th>0</th>\n",
    "<th>The borrower does not have credit whose utilization can be calculated.</th>\n",
    "</tr>\n",
    "<tr>\n",
    "<th>bc_util</th>\n",
    "<th>0</th>\n",
    "<th>The borrower does not have a credit card, so credit card utilization is 0%.</th>\n",
    "</tr>\n",
    "<tr>\n",
    "<th>revol_util</th>\n",
    "<th>0%</th>\n",
    "<th>The borrower does not have revolving credit, so the utilization is 0% (fixed format in percent).</th>\n",
    "</tr>\n",
    "<tr>\n",
    "<th>dti</th>\n",
    "<th>0</th>\n",
    "<th>The borrower has no debt compared to his income, so the debt to income ratio is 0%.</th>\n",
    "</tr>\n",
    "</table>"
   ]
  },
  {
   "cell_type": "code",
   "execution_count": 10,
   "metadata": {},
   "outputs": [
    {
     "name": "stdout",
     "output_type": "stream",
     "text": [
      "num_tl_120dpd_2m:  [ 0. nan]\n",
      "num_tl_120dpd_2m.1:  [ 0. nan]\n"
     ]
    }
   ],
   "source": [
    "print(\"num_tl_120dpd_2m: \",df[\"num_tl_120dpd_2m\"].unique())\n",
    "print(\"num_tl_120dpd_2m.1: \",df[\"num_tl_120dpd_2m.1\"].unique())"
   ]
  },
  {
   "cell_type": "code",
   "execution_count": 11,
   "metadata": {},
   "outputs": [],
   "source": [
    "df.drop(columns=['hardship_dpd','num_tl_120dpd_2m','num_tl_120dpd_2m.1'], inplace=True)"
   ]
  },
  {
   "cell_type": "markdown",
   "metadata": {},
   "source": [
    "<table boreder=\"1\">\n",
    "<tr>\n",
    "<th>Removed Features</th>\n",
    "<th>Reason</th>\n",
    "</tr>\n",
    "<tr>\n",
    "<th>num_tl_120dpd_2m</th>\n",
    "<th>All values ​​are 0 or NaN, no information for credit risk analysis.</th>\n",
    "</tr>\n",
    "<tr>\n",
    "<th>num_tl_120dpd_2m.1</th>\n",
    "<th>Duplication of num_tl_120dpd_2m, not required in the dataset.</th>\n",
    "</tr>\n",
    "<tr>\n",
    "<th>hardship_dpd</th>\n",
    "<th>It could be that this feature is more of an outlier, because only a few borrowers qualify so 97% of the value is lost</th>\n",
    "</tr>\n",
    "</table>"
   ]
  },
  {
   "cell_type": "code",
   "execution_count": 12,
   "metadata": {},
   "outputs": [
    {
     "data": {
      "text/html": [
       "<div>\n",
       "<style scoped>\n",
       "    .dataframe tbody tr th:only-of-type {\n",
       "        vertical-align: middle;\n",
       "    }\n",
       "\n",
       "    .dataframe tbody tr th {\n",
       "        vertical-align: top;\n",
       "    }\n",
       "\n",
       "    .dataframe thead th {\n",
       "        text-align: right;\n",
       "    }\n",
       "</style>\n",
       "<table border=\"1\" class=\"dataframe\">\n",
       "  <thead>\n",
       "    <tr style=\"text-align: right;\">\n",
       "      <th></th>\n",
       "      <th>Missing Values</th>\n",
       "      <th>Percentage (%)</th>\n",
       "    </tr>\n",
       "  </thead>\n",
       "  <tbody>\n",
       "  </tbody>\n",
       "</table>\n",
       "</div>"
      ],
      "text/plain": [
       "Empty DataFrame\n",
       "Columns: [Missing Values, Percentage (%)]\n",
       "Index: []"
      ]
     },
     "execution_count": 12,
     "metadata": {},
     "output_type": "execute_result"
    }
   ],
   "source": [
    "missing_values = df.isnull().sum()\n",
    "missing_values = missing_values[missing_values > 0]\n",
    "missing_percentage = (missing_values / len(df)) * 100\n",
    "missing_info = pd.DataFrame({'Missing Values': missing_values, 'Percentage (%)': missing_percentage})\n",
    "missing_info"
   ]
  },
  {
   "cell_type": "code",
   "execution_count": 13,
   "metadata": {},
   "outputs": [
    {
     "data": {
      "text/plain": [
       "(93956, 51)"
      ]
     },
     "execution_count": 13,
     "metadata": {},
     "output_type": "execute_result"
    }
   ],
   "source": [
    "df.shape"
   ]
  },
  {
   "cell_type": "markdown",
   "metadata": {},
   "source": [
    "## 2. Duplicates"
   ]
  },
  {
   "cell_type": "code",
   "execution_count": 14,
   "metadata": {},
   "outputs": [
    {
     "name": "stdout",
     "output_type": "stream",
     "text": [
      "Total duplicates in a row:  0\n"
     ]
    }
   ],
   "source": [
    "total_dupli = df.duplicated().sum()\n",
    "print(\"Total duplicates in a row: \", total_dupli)"
   ]
  },
  {
   "cell_type": "code",
   "execution_count": 15,
   "metadata": {},
   "outputs": [],
   "source": [
    "# List of possible duplicate features\n",
    "duplicate_features = {\n",
    "    \"num_rev_accts.1\": \"num_rev_accts\",\n",
    "    \"num_op_rev_tl.1\": \"num_op_rev_tl\",\n",
    "    \"num_actv_rev_tl.1\": \"num_actv_rev_tl\",\n",
    "    \"num_bc_sats.1\": \"num_bc_sats\",\n",
    "    \"num_tl_op_past_12m.1\": \"num_tl_op_past_12m\",\n",
    "    \"mo_sin_rcnt_tl.1\": \"mo_sin_rcnt_tl\",\n",
    "    \"num_il_tl.1\": \"num_il_tl\",\n",
    "    \"num_bc_tl.1\": \"num_bc_tl\",\n",
    "    \"num_tl_30dpd.1\": \"num_tl_30dpd\",\n",
    "    \"num_tl_90g_dpd_24m.1\": \"num_tl_90g_dpd_24m\"\n",
    "}\n"
   ]
  },
  {
   "cell_type": "code",
   "execution_count": 16,
   "metadata": {},
   "outputs": [
    {
     "name": "stdout",
     "output_type": "stream",
     "text": [
      "Whether num_rev_accts.1 identical to num_rev_accts? → True\n",
      "Whether num_op_rev_tl.1 identical to num_op_rev_tl? → True\n",
      "Whether num_actv_rev_tl.1 identical to num_actv_rev_tl? → True\n",
      "Whether num_bc_sats.1 identical to num_bc_sats? → True\n",
      "Whether num_tl_op_past_12m.1 identical to num_tl_op_past_12m? → True\n",
      "Whether mo_sin_rcnt_tl.1 identical to mo_sin_rcnt_tl? → True\n",
      "Whether num_il_tl.1 identical to num_il_tl? → True\n",
      "Whether num_bc_tl.1 identical to num_bc_tl? → True\n",
      "Whether num_tl_30dpd.1 identical to num_tl_30dpd? → True\n",
      "Whether num_tl_90g_dpd_24m.1 identical to num_tl_90g_dpd_24m? → True\n"
     ]
    }
   ],
   "source": [
    "# Check whether the duplicate features are identical to the original version\n",
    "for dup, original in duplicate_features.items():\n",
    "    if dup in df.columns and original in df.columns:  \n",
    "        is_identical = df[dup].equals(df[original])  \n",
    "        print(f\"Whether {dup} identical to {original}? → {is_identical}\")\n"
   ]
  },
  {
   "cell_type": "code",
   "execution_count": 17,
   "metadata": {},
   "outputs": [
    {
     "name": "stdout",
     "output_type": "stream",
     "text": [
      "Removed feature due to duplicate: ['num_rev_accts.1', 'num_op_rev_tl.1', 'num_actv_rev_tl.1', 'num_bc_sats.1', 'num_tl_op_past_12m.1', 'mo_sin_rcnt_tl.1', 'num_il_tl.1', 'num_bc_tl.1', 'num_tl_30dpd.1', 'num_tl_90g_dpd_24m.1']\n"
     ]
    }
   ],
   "source": [
    "# List of features to be removed\n",
    "features_to_drop = []\n",
    "\n",
    "for dup, original in duplicate_features.items():\n",
    "    if dup in df.columns and original in df.columns:  \n",
    "        if df[dup].equals(df[original]):  \n",
    "            features_to_drop.append(dup)\n",
    "\n",
    "# Remove duplicate features if any are identical\n",
    "if features_to_drop:\n",
    "    df.drop(columns=features_to_drop, inplace=True)\n",
    "    print(f\"Removed feature due to duplicate: {features_to_drop}\")\n",
    "else:\n",
    "    print(\"There are no truly identical duplicate features.\")\n"
   ]
  },
  {
   "cell_type": "code",
   "execution_count": null,
   "metadata": {},
   "outputs": [],
   "source": []
  },
  {
   "cell_type": "code",
   "execution_count": 19,
   "metadata": {},
   "outputs": [],
   "source": [
    "# Save the DataFrame resulting from data cleaning to a file using pickle, so you don't have to do the same steps if you want to do analysis\n",
    "with open('./datasets/data_cleaned.pkl', 'wb') as file:\n",
    "    pickle.dump(df, file)"
   ]
  },
  {
   "cell_type": "markdown",
   "metadata": {},
   "source": [
    "# 3. Exploratory Data Analysis (EDA)"
   ]
  },
  {
   "cell_type": "code",
   "execution_count": 2,
   "metadata": {},
   "outputs": [],
   "source": [
    "# Loading DataFrame from pickle file\n",
    "with open('./datasets/data_cleaned.pkl', 'rb') as file:\n",
    "    df = pickle.load(file)"
   ]
  },
  {
   "cell_type": "code",
   "execution_count": 3,
   "metadata": {},
   "outputs": [
    {
     "data": {
      "text/html": [
       "<div>\n",
       "<style scoped>\n",
       "    .dataframe tbody tr th:only-of-type {\n",
       "        vertical-align: middle;\n",
       "    }\n",
       "\n",
       "    .dataframe tbody tr th {\n",
       "        vertical-align: top;\n",
       "    }\n",
       "\n",
       "    .dataframe thead th {\n",
       "        text-align: right;\n",
       "    }\n",
       "</style>\n",
       "<table border=\"1\" class=\"dataframe\">\n",
       "  <thead>\n",
       "    <tr style=\"text-align: right;\">\n",
       "      <th></th>\n",
       "      <th>acc_now_delinq</th>\n",
       "      <th>all_util</th>\n",
       "      <th>bc_util</th>\n",
       "      <th>delinq_2yrs</th>\n",
       "      <th>delinq_amnt</th>\n",
       "      <th>dti</th>\n",
       "      <th>fico_range_high</th>\n",
       "      <th>fico_range_low</th>\n",
       "      <th>int_rate</th>\n",
       "      <th>loan_status</th>\n",
       "      <th>...</th>\n",
       "      <th>num_sats</th>\n",
       "      <th>num_tl_op_past_12m</th>\n",
       "      <th>pct_tl_nvr_dlq</th>\n",
       "      <th>percent_bc_gt_75</th>\n",
       "      <th>total_bal_il</th>\n",
       "      <th>total_rev_hi_lim</th>\n",
       "      <th>mths_since_recent_inq</th>\n",
       "      <th>verification_status</th>\n",
       "      <th>revol_delinq_category</th>\n",
       "      <th>bc_delinq_category</th>\n",
       "    </tr>\n",
       "  </thead>\n",
       "  <tbody>\n",
       "    <tr>\n",
       "      <th>0</th>\n",
       "      <td>0.0</td>\n",
       "      <td>72.0</td>\n",
       "      <td>97.6</td>\n",
       "      <td>0.0</td>\n",
       "      <td>0.0</td>\n",
       "      <td>11.88</td>\n",
       "      <td>669.0</td>\n",
       "      <td>665.0</td>\n",
       "      <td>17.19%</td>\n",
       "      <td>Fully Paid</td>\n",
       "      <td>...</td>\n",
       "      <td>9.0</td>\n",
       "      <td>3.0</td>\n",
       "      <td>90.9</td>\n",
       "      <td>100.0</td>\n",
       "      <td>16136.0</td>\n",
       "      <td>6600.0</td>\n",
       "      <td>7.0</td>\n",
       "      <td>Source Verified</td>\n",
       "      <td>4</td>\n",
       "      <td>0</td>\n",
       "    </tr>\n",
       "    <tr>\n",
       "      <th>1</th>\n",
       "      <td>0.0</td>\n",
       "      <td>17.0</td>\n",
       "      <td>2.0</td>\n",
       "      <td>0.0</td>\n",
       "      <td>0.0</td>\n",
       "      <td>14.73</td>\n",
       "      <td>769.0</td>\n",
       "      <td>765.0</td>\n",
       "      <td>7.56%</td>\n",
       "      <td>Fully Paid</td>\n",
       "      <td>...</td>\n",
       "      <td>12.0</td>\n",
       "      <td>1.0</td>\n",
       "      <td>100.0</td>\n",
       "      <td>0.0</td>\n",
       "      <td>6549.0</td>\n",
       "      <td>34200.0</td>\n",
       "      <td>2.0</td>\n",
       "      <td>Not Verified</td>\n",
       "      <td>0</td>\n",
       "      <td>0</td>\n",
       "    </tr>\n",
       "    <tr>\n",
       "      <th>2</th>\n",
       "      <td>0.0</td>\n",
       "      <td>76.0</td>\n",
       "      <td>77.3</td>\n",
       "      <td>0.0</td>\n",
       "      <td>0.0</td>\n",
       "      <td>25.48</td>\n",
       "      <td>694.0</td>\n",
       "      <td>690.0</td>\n",
       "      <td>14.74%</td>\n",
       "      <td>Charged Off</td>\n",
       "      <td>...</td>\n",
       "      <td>20.0</td>\n",
       "      <td>3.0</td>\n",
       "      <td>94.7</td>\n",
       "      <td>75.0</td>\n",
       "      <td>66285.0</td>\n",
       "      <td>84200.0</td>\n",
       "      <td>1.0</td>\n",
       "      <td>Not Verified</td>\n",
       "      <td>0</td>\n",
       "      <td>0</td>\n",
       "    </tr>\n",
       "    <tr>\n",
       "      <th>3</th>\n",
       "      <td>0.0</td>\n",
       "      <td>69.0</td>\n",
       "      <td>68.8</td>\n",
       "      <td>4.0</td>\n",
       "      <td>0.0</td>\n",
       "      <td>6.46</td>\n",
       "      <td>669.0</td>\n",
       "      <td>665.0</td>\n",
       "      <td>20.00%</td>\n",
       "      <td>Fully Paid</td>\n",
       "      <td>...</td>\n",
       "      <td>4.0</td>\n",
       "      <td>0.0</td>\n",
       "      <td>50.0</td>\n",
       "      <td>25.0</td>\n",
       "      <td>0.0</td>\n",
       "      <td>2500.0</td>\n",
       "      <td>25.0</td>\n",
       "      <td>Not Verified</td>\n",
       "      <td>3</td>\n",
       "      <td>3</td>\n",
       "    </tr>\n",
       "    <tr>\n",
       "      <th>4</th>\n",
       "      <td>0.0</td>\n",
       "      <td>40.0</td>\n",
       "      <td>26.0</td>\n",
       "      <td>0.0</td>\n",
       "      <td>0.0</td>\n",
       "      <td>17.00</td>\n",
       "      <td>734.0</td>\n",
       "      <td>730.0</td>\n",
       "      <td>12.40%</td>\n",
       "      <td>Fully Paid</td>\n",
       "      <td>...</td>\n",
       "      <td>11.0</td>\n",
       "      <td>2.0</td>\n",
       "      <td>95.2</td>\n",
       "      <td>0.0</td>\n",
       "      <td>57104.0</td>\n",
       "      <td>35000.0</td>\n",
       "      <td>0.0</td>\n",
       "      <td>Not Verified</td>\n",
       "      <td>0</td>\n",
       "      <td>0</td>\n",
       "    </tr>\n",
       "  </tbody>\n",
       "</table>\n",
       "<p>5 rows × 41 columns</p>\n",
       "</div>"
      ],
      "text/plain": [
       "   acc_now_delinq  all_util  bc_util  delinq_2yrs  delinq_amnt    dti  \\\n",
       "0             0.0      72.0     97.6          0.0          0.0  11.88   \n",
       "1             0.0      17.0      2.0          0.0          0.0  14.73   \n",
       "2             0.0      76.0     77.3          0.0          0.0  25.48   \n",
       "3             0.0      69.0     68.8          4.0          0.0   6.46   \n",
       "4             0.0      40.0     26.0          0.0          0.0  17.00   \n",
       "\n",
       "   fico_range_high  fico_range_low int_rate  loan_status  ...  num_sats  \\\n",
       "0            669.0           665.0   17.19%   Fully Paid  ...       9.0   \n",
       "1            769.0           765.0    7.56%   Fully Paid  ...      12.0   \n",
       "2            694.0           690.0   14.74%  Charged Off  ...      20.0   \n",
       "3            669.0           665.0   20.00%   Fully Paid  ...       4.0   \n",
       "4            734.0           730.0   12.40%   Fully Paid  ...      11.0   \n",
       "\n",
       "   num_tl_op_past_12m  pct_tl_nvr_dlq  percent_bc_gt_75  total_bal_il  \\\n",
       "0                 3.0            90.9             100.0       16136.0   \n",
       "1                 1.0           100.0               0.0        6549.0   \n",
       "2                 3.0            94.7              75.0       66285.0   \n",
       "3                 0.0            50.0              25.0           0.0   \n",
       "4                 2.0            95.2               0.0       57104.0   \n",
       "\n",
       "   total_rev_hi_lim  mths_since_recent_inq  verification_status  \\\n",
       "0            6600.0                    7.0      Source Verified   \n",
       "1           34200.0                    2.0         Not Verified   \n",
       "2           84200.0                    1.0         Not Verified   \n",
       "3            2500.0                   25.0         Not Verified   \n",
       "4           35000.0                    0.0         Not Verified   \n",
       "\n",
       "   revol_delinq_category  bc_delinq_category  \n",
       "0                      4                   0  \n",
       "1                      0                   0  \n",
       "2                      0                   0  \n",
       "3                      3                   3  \n",
       "4                      0                   0  \n",
       "\n",
       "[5 rows x 41 columns]"
      ]
     },
     "execution_count": 3,
     "metadata": {},
     "output_type": "execute_result"
    }
   ],
   "source": [
    "df.head()"
   ]
  },
  {
   "cell_type": "code",
   "execution_count": 4,
   "metadata": {},
   "outputs": [
    {
     "data": {
      "text/plain": [
       "(93956, 41)"
      ]
     },
     "execution_count": 4,
     "metadata": {},
     "output_type": "execute_result"
    }
   ],
   "source": [
    "df.shape"
   ]
  },
  {
   "cell_type": "code",
   "execution_count": 5,
   "metadata": {},
   "outputs": [
    {
     "data": {
      "text/plain": [
       "fico_range_low     float64\n",
       "fico_range_high    float64\n",
       "dtype: object"
      ]
     },
     "execution_count": 5,
     "metadata": {},
     "output_type": "execute_result"
    }
   ],
   "source": [
    "df[['fico_range_low','fico_range_high']].dtypes"
   ]
  },
  {
   "cell_type": "code",
   "execution_count": 6,
   "metadata": {},
   "outputs": [
    {
     "data": {
      "text/html": [
       "<div>\n",
       "<style scoped>\n",
       "    .dataframe tbody tr th:only-of-type {\n",
       "        vertical-align: middle;\n",
       "    }\n",
       "\n",
       "    .dataframe tbody tr th {\n",
       "        vertical-align: top;\n",
       "    }\n",
       "\n",
       "    .dataframe thead th {\n",
       "        text-align: right;\n",
       "    }\n",
       "</style>\n",
       "<table border=\"1\" class=\"dataframe\">\n",
       "  <thead>\n",
       "    <tr style=\"text-align: right;\">\n",
       "      <th></th>\n",
       "      <th>avg_fico_score</th>\n",
       "    </tr>\n",
       "  </thead>\n",
       "  <tbody>\n",
       "    <tr>\n",
       "      <th>0</th>\n",
       "      <td>667.0</td>\n",
       "    </tr>\n",
       "    <tr>\n",
       "      <th>1</th>\n",
       "      <td>767.0</td>\n",
       "    </tr>\n",
       "    <tr>\n",
       "      <th>2</th>\n",
       "      <td>692.0</td>\n",
       "    </tr>\n",
       "    <tr>\n",
       "      <th>3</th>\n",
       "      <td>667.0</td>\n",
       "    </tr>\n",
       "    <tr>\n",
       "      <th>4</th>\n",
       "      <td>732.0</td>\n",
       "    </tr>\n",
       "  </tbody>\n",
       "</table>\n",
       "</div>"
      ],
      "text/plain": [
       "   avg_fico_score\n",
       "0           667.0\n",
       "1           767.0\n",
       "2           692.0\n",
       "3           667.0\n",
       "4           732.0"
      ]
     },
     "execution_count": 6,
     "metadata": {},
     "output_type": "execute_result"
    }
   ],
   "source": [
    "df['avg_fico_score'] = df[['fico_range_low','fico_range_high']].mean(axis=1)\n",
    "df[['avg_fico_score']].head()"
   ]
  },
  {
   "cell_type": "code",
   "execution_count": 7,
   "metadata": {},
   "outputs": [
    {
     "data": {
      "text/plain": [
       "array([667. , 767. , 692. , 732. , 662. , 682. , 687. , 762. , 697. ,\n",
       "       672. , 787. , 737. , 712. , 752. , 722. , 707. , 702. , 677. ,\n",
       "       747. , 757. , 777. , 717. , 812. , 727. , 742. , 772. , 797. ,\n",
       "       792. , 822. , 817. , 807. , 782. , 802. , 827. , 832. , 842. ,\n",
       "       847.5, 837. ])"
      ]
     },
     "execution_count": 7,
     "metadata": {},
     "output_type": "execute_result"
    }
   ],
   "source": [
    "df['avg_fico_score'].unique()"
   ]
  },
  {
   "cell_type": "markdown",
   "metadata": {},
   "source": [
    "<p>Based on the estimated Average FICO value, we can divide the risk categories as follows:</p>\n",
    "<ul>\n",
    "<li>High-Risk Loan: FICO < 690 (662 - 687)</li>\n",
    "<li>Medium-Risk Loan: FICO 690 - 730 (692 - 727)</li>\n",
    "<li>Low-Risk Loan: FICO 732 - 770 (732 - 772)</li>\n",
    "<li>Very Low-Risk Loan: FICO > 770 (777 - 847.5)</li>\n",
    "</ul>"
   ]
  },
  {
   "cell_type": "code",
   "execution_count": 9,
   "metadata": {},
   "outputs": [],
   "source": [
    "# Define intervals and labels\n",
    "bins = [0, 690, 730, 770, float('inf')]\n",
    "labels = ['High-Risk Loan', 'Medium-Risk Loan', 'Low-Risk Loan', 'Very Low-Risk Loan']\n",
    "\n",
    "# Tambahkan kolom kategori\n",
    "df['risk_category'] = pd.cut(df['avg_fico_score'], bins=bins, labels=labels, right=False)"
   ]
  },
  {
   "cell_type": "code",
   "execution_count": 10,
   "metadata": {},
   "outputs": [
    {
     "data": {
      "text/plain": [
       "(93956, 43)"
      ]
     },
     "execution_count": 10,
     "metadata": {},
     "output_type": "execute_result"
    }
   ],
   "source": [
    "df.shape"
   ]
  },
  {
   "cell_type": "code",
   "execution_count": 12,
   "metadata": {},
   "outputs": [
    {
     "data": {
      "text/plain": [
       "['High-Risk Loan', 'Low-Risk Loan', 'Medium-Risk Loan', 'Very Low-Risk Loan']\n",
       "Categories (4, object): ['High-Risk Loan' < 'Medium-Risk Loan' < 'Low-Risk Loan' < 'Very Low-Risk Loan']"
      ]
     },
     "execution_count": 12,
     "metadata": {},
     "output_type": "execute_result"
    }
   ],
   "source": [
    "df['risk_category'].unique()"
   ]
  },
  {
   "cell_type": "code",
   "execution_count": 13,
   "metadata": {},
   "outputs": [],
   "source": [
    "# Save the risk category loan dataframe\n",
    "with open('./datasets/data_risk_category.pkl', 'wb') as file:\n",
    "    pickle.dump(df, file)"
   ]
  },
  {
   "cell_type": "markdown",
   "metadata": {},
   "source": [
    "## 1. Delinquency & Default Risk"
   ]
  },
  {
   "cell_type": "code",
   "execution_count": 3,
   "metadata": {},
   "outputs": [],
   "source": [
    "# Loading DataFrame from pickle file\n",
    "with open('./datasets/data_risk_category.pkl', 'rb') as file:\n",
    "    df = pickle.load(file)"
   ]
  },
  {
   "cell_type": "code",
   "execution_count": 16,
   "metadata": {},
   "outputs": [
    {
     "data": {
      "text/html": [
       "<div>\n",
       "<style scoped>\n",
       "    .dataframe tbody tr th:only-of-type {\n",
       "        vertical-align: middle;\n",
       "    }\n",
       "\n",
       "    .dataframe tbody tr th {\n",
       "        vertical-align: top;\n",
       "    }\n",
       "\n",
       "    .dataframe thead th {\n",
       "        text-align: right;\n",
       "    }\n",
       "</style>\n",
       "<table border=\"1\" class=\"dataframe\">\n",
       "  <thead>\n",
       "    <tr style=\"text-align: right;\">\n",
       "      <th></th>\n",
       "      <th>acc_now_delinq</th>\n",
       "      <th>num_accts_ever_120_pd</th>\n",
       "      <th>num_tl_30dpd</th>\n",
       "      <th>num_tl_90g_dpd_24m</th>\n",
       "    </tr>\n",
       "  </thead>\n",
       "  <tbody>\n",
       "    <tr>\n",
       "      <th>count</th>\n",
       "      <td>93956.000000</td>\n",
       "      <td>93956.000000</td>\n",
       "      <td>93956.000000</td>\n",
       "      <td>93956.000000</td>\n",
       "    </tr>\n",
       "    <tr>\n",
       "      <th>mean</th>\n",
       "      <td>0.000053</td>\n",
       "      <td>0.483971</td>\n",
       "      <td>0.000032</td>\n",
       "      <td>0.062891</td>\n",
       "    </tr>\n",
       "    <tr>\n",
       "      <th>std</th>\n",
       "      <td>0.007295</td>\n",
       "      <td>1.422314</td>\n",
       "      <td>0.005651</td>\n",
       "      <td>0.457198</td>\n",
       "    </tr>\n",
       "    <tr>\n",
       "      <th>min</th>\n",
       "      <td>0.000000</td>\n",
       "      <td>0.000000</td>\n",
       "      <td>0.000000</td>\n",
       "      <td>0.000000</td>\n",
       "    </tr>\n",
       "    <tr>\n",
       "      <th>25%</th>\n",
       "      <td>0.000000</td>\n",
       "      <td>0.000000</td>\n",
       "      <td>0.000000</td>\n",
       "      <td>0.000000</td>\n",
       "    </tr>\n",
       "    <tr>\n",
       "      <th>50%</th>\n",
       "      <td>0.000000</td>\n",
       "      <td>0.000000</td>\n",
       "      <td>0.000000</td>\n",
       "      <td>0.000000</td>\n",
       "    </tr>\n",
       "    <tr>\n",
       "      <th>75%</th>\n",
       "      <td>0.000000</td>\n",
       "      <td>0.000000</td>\n",
       "      <td>0.000000</td>\n",
       "      <td>0.000000</td>\n",
       "    </tr>\n",
       "    <tr>\n",
       "      <th>max</th>\n",
       "      <td>1.000000</td>\n",
       "      <td>34.000000</td>\n",
       "      <td>1.000000</td>\n",
       "      <td>20.000000</td>\n",
       "    </tr>\n",
       "  </tbody>\n",
       "</table>\n",
       "</div>"
      ],
      "text/plain": [
       "       acc_now_delinq  num_accts_ever_120_pd  num_tl_30dpd  num_tl_90g_dpd_24m\n",
       "count    93956.000000           93956.000000  93956.000000        93956.000000\n",
       "mean         0.000053               0.483971      0.000032            0.062891\n",
       "std          0.007295               1.422314      0.005651            0.457198\n",
       "min          0.000000               0.000000      0.000000            0.000000\n",
       "25%          0.000000               0.000000      0.000000            0.000000\n",
       "50%          0.000000               0.000000      0.000000            0.000000\n",
       "75%          0.000000               0.000000      0.000000            0.000000\n",
       "max          1.000000              34.000000      1.000000           20.000000"
      ]
     },
     "execution_count": 16,
     "metadata": {},
     "output_type": "execute_result"
    }
   ],
   "source": [
    "df[['acc_now_delinq', 'num_accts_ever_120_pd', 'num_tl_30dpd', 'num_tl_90g_dpd_24m']].describe()"
   ]
  },
  {
   "cell_type": "code",
   "execution_count": 33,
   "metadata": {},
   "outputs": [
    {
     "name": "stderr",
     "output_type": "stream",
     "text": [
      "/tmp/ipykernel_7091/194901921.py:1: FutureWarning: The default of observed=False is deprecated and will be changed to True in a future version of pandas. Pass observed=False to retain current behavior or observed=True to adopt the future default and silence this warning.\n",
      "  grouped_data = df.groupby('risk_category')[['acc_now_delinq', 'num_tl_30dpd']].mean()\n"
     ]
    },
    {
     "data": {
      "image/png": "[encoded data removed]",
      "text/plain": [
       "<Figure size 800x400 with 1 Axes>"
      ]
     },
     "metadata": {},
     "output_type": "display_data"
    }
   ],
   "source": [
    "grouped_data = df.groupby('risk_category')[['acc_now_delinq', 'num_tl_30dpd']].mean()\n",
    "# Bar plot\n",
    "grouped_data.plot(kind='bar', figsize=(8, 4))\n",
    "plt.title('Feature Average based on Risk Category')\n",
    "plt.ylabel('Average')\n",
    "plt.show()"
   ]
  },
  {
   "cell_type": "code",
   "execution_count": 35,
   "metadata": {},
   "outputs": [
    {
     "data": {
      "image/png": "[encoded data removed]",
      "text/plain": [
       "<Figure size 1000x600 with 1 Axes>"
      ]
     },
     "metadata": {},
     "output_type": "display_data"
    },
    {
     "data": {
      "image/png": "[encoded data removed]",
      "text/plain": [
       "<Figure size 1000x600 with 1 Axes>"
      ]
     },
     "metadata": {},
     "output_type": "display_data"
    }
   ],
   "source": [
    "# Boxplot for num_accts_ever_120_pd\n",
    "plt.figure(figsize=(10, 6))\n",
    "sns.boxplot(x='risk_category', y='num_accts_ever_120_pd', data=df)\n",
    "plt.title('Distribution acc_now_delinq based on Risk Category')\n",
    "plt.show()\n",
    "\n",
    "# Boxplot for num_tl_90g_dpd_24m\n",
    "plt.figure(figsize=(10, 6))\n",
    "sns.boxplot(x='risk_category', y='num_tl_90g_dpd_24m', data=df)\n",
    "plt.title('Distribution num_tl_90g_dpd_24m based on Risk Category')\n",
    "plt.show()"
   ]
  }
 ],
 "metadata": {
  "kernelspec": {
   "display_name": "myenv",
   "language": "python",
   "name": "python3"
  },
  "language_info": {
   "codemirror_mode": {
    "name": "ipython",
    "version": 3
   },
   "file_extension": ".py",
   "mimetype": "text/x-python",
   "name": "python",
   "nbconvert_exporter": "python",
   "pygments_lexer": "ipython3",
   "version": "3.12.3"
  }
 },
 "nbformat": 4,
 "nbformat_minor": 2
}
