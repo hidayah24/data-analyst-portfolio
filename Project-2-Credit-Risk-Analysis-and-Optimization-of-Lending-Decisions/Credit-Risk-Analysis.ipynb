{
 "cells": [
  {
   "cell_type": "markdown",
   "metadata": {},
   "source": [
    "<h1 align=\"center\">Loan - Credit Risk & Population Stability</h1>\n",
    "<h2>About Dataset</h2>\n",
    "<p>Loan - Credit Risk & Population Stability is a part of Lending Club Company public database.\n",
    "LendingClub is a US peer-to-peer lending company, headquartered in San Francisco, California. It was the first peer-to-peer lender to register its offerings as securities with the Securities and Exchange Commission (SEC), and to offer loan trading on a secondary market. LendingClub is the world's largest peer-to-peer lending platform.</p>\n",
    "<p>The data was divided into two parts.</p>\n",
    "<p>The first data (loan_2014-2018.csv) contains almoust 1800 000 consumer loans issued from 2014 to 2018.\n",
    "The second one (loan_2019-2020.csv) is specially separated to check if model have similar characteristics and is still up to date.</p>\n",
    "<strong><p>In this project, I will only use the \"loan_2019-2020.csv\" dataset</p></strong>\n",
    "<h2>Data Source</h2>\n",
    "<p>Kaggle: <a href=\"https://www.kaggle.com/datasets/beatafaron/loan-credit-risk-and-population-stability\">Loan - Credit Risk & Population Stability</a></p>"
   ]
  },
  {
   "cell_type": "code",
   "execution_count": 1,
   "metadata": {},
   "outputs": [],
   "source": [
    "import pandas as pd\n",
    "from IPython.display import display"
   ]
  },
  {
   "cell_type": "markdown",
   "metadata": {},
   "source": [
    "# 1. Data Collecting"
   ]
  },
  {
   "cell_type": "markdown",
   "metadata": {},
   "source": [
    "## 1. Understanding Data"
   ]
  },
  {
   "cell_type": "markdown",
   "metadata": {},
   "source": [
    "<strong>Understand what the dataset contains</strong>"
   ]
  },
  {
   "cell_type": "code",
   "execution_count": 2,
   "metadata": {},
   "outputs": [],
   "source": [
    "df_dict = pd.read_excel(\"./datasets/LoanDataDictionary.xlsx\")"
   ]
  },
  {
   "cell_type": "code",
   "execution_count": 3,
   "metadata": {},
   "outputs": [],
   "source": [
    "# Display all rows\n",
    "pd.set_option('display.max_rows', None)\n",
    "pd.set_option('display.max_colwidth', None)"
   ]
  },
  {
   "cell_type": "code",
   "execution_count": 4,
   "metadata": {},
   "outputs": [
    {
     "data": {
      "text/html": [
       "<div>\n",
       "<style scoped>\n",
       "    .dataframe tbody tr th:only-of-type {\n",
       "        vertical-align: middle;\n",
       "    }\n",
       "\n",
       "    .dataframe tbody tr th {\n",
       "        vertical-align: top;\n",
       "    }\n",
       "\n",
       "    .dataframe thead th {\n",
       "        text-align: right;\n",
       "    }\n",
       "</style>\n",
       "<table border=\"1\" class=\"dataframe\">\n",
       "  <thead>\n",
       "    <tr style=\"text-align: right;\">\n",
       "      <th></th>\n",
       "      <th>LoanStatNew</th>\n",
       "      <th>Description</th>\n",
       "    </tr>\n",
       "  </thead>\n",
       "  <tbody>\n",
       "    <tr>\n",
       "      <th>0</th>\n",
       "      <td>acc_now_delinq</td>\n",
       "      <td>The number of accounts on which the borrower is now delinquent.</td>\n",
       "    </tr>\n",
       "    <tr>\n",
       "      <th>1</th>\n",
       "      <td>acc_open_past_24mths</td>\n",
       "      <td>Number of trades opened in past 24 months.</td>\n",
       "    </tr>\n",
       "    <tr>\n",
       "      <th>2</th>\n",
       "      <td>addr_state</td>\n",
       "      <td>The state provided by the borrower in the loan application</td>\n",
       "    </tr>\n",
       "    <tr>\n",
       "      <th>3</th>\n",
       "      <td>all_util</td>\n",
       "      <td>Balance to credit limit on all trades</td>\n",
       "    </tr>\n",
       "    <tr>\n",
       "      <th>4</th>\n",
       "      <td>annual_inc</td>\n",
       "      <td>The self-reported annual income provided by the borrower during registration.</td>\n",
       "    </tr>\n",
       "  </tbody>\n",
       "</table>\n",
       "</div>"
      ],
      "text/plain": [
       "            LoanStatNew  \\\n",
       "0        acc_now_delinq   \n",
       "1  acc_open_past_24mths   \n",
       "2            addr_state   \n",
       "3              all_util   \n",
       "4            annual_inc   \n",
       "\n",
       "                                                                     Description  \n",
       "0                The number of accounts on which the borrower is now delinquent.  \n",
       "1                                     Number of trades opened in past 24 months.  \n",
       "2                     The state provided by the borrower in the loan application  \n",
       "3                                          Balance to credit limit on all trades  \n",
       "4  The self-reported annual income provided by the borrower during registration.  "
      ]
     },
     "metadata": {},
     "output_type": "display_data"
    }
   ],
   "source": [
    "display(df_dict.head())"
   ]
  },
  {
   "cell_type": "code",
   "execution_count": 8,
   "metadata": {},
   "outputs": [
    {
     "data": {
      "text/html": [
       "<div>\n",
       "<style scoped>\n",
       "    .dataframe tbody tr th:only-of-type {\n",
       "        vertical-align: middle;\n",
       "    }\n",
       "\n",
       "    .dataframe tbody tr th {\n",
       "        vertical-align: top;\n",
       "    }\n",
       "\n",
       "    .dataframe thead th {\n",
       "        text-align: right;\n",
       "    }\n",
       "</style>\n",
       "<table border=\"1\" class=\"dataframe\">\n",
       "  <thead>\n",
       "    <tr style=\"text-align: right;\">\n",
       "      <th></th>\n",
       "      <th>LoanStatNew</th>\n",
       "      <th>Description</th>\n",
       "    </tr>\n",
       "  </thead>\n",
       "  <tbody>\n",
       "    <tr>\n",
       "      <th>103</th>\n",
       "      <td>total_cu_tl</td>\n",
       "      <td>Number of finance trades</td>\n",
       "    </tr>\n",
       "  </tbody>\n",
       "</table>\n",
       "</div>"
      ],
      "text/plain": [
       "     LoanStatNew               Description\n",
       "103  total_cu_tl  Number of finance trades"
      ]
     },
     "execution_count": 8,
     "metadata": {},
     "output_type": "execute_result"
    }
   ],
   "source": [
    "df_dict[df_dict['LoanStatNew'] == 'total_cu_tl']"
   ]
  },
  {
   "cell_type": "markdown",
   "metadata": {},
   "source": [
    "## 2. Feature Selection"
   ]
  },
  {
   "cell_type": "markdown",
   "metadata": {},
   "source": [
    "<strong>Conclusion</strong>\n",
    "<p>After understanding the dataset and because the dataset is too large, I will select the features that are relevant to the analysis and create them into a new CSV file. I will choose features:<p>\n",
    "<ul>\n",
    "<li>Will not include outstanding \"loan_status\"</li>\n",
    "<li>The total deselected features are now more than 100 features, due to redundancy, administrative reasons, or simply reflecting the status after the loan has been granted.</li>\n",
    "<li>The best features selected were 53 features, which in my opinion have a direct relationship with the risk of default.</li>\n",
    "</ul>\n",
    "<p>I did not include the grade feature because, this feature is not raw data, but the result of the lender's internal algorithm which has taken into account other factors. The feature grade itself is categorical and has been classified by the lender.</p>"
   ]
  },
  {
   "cell_type": "code",
   "execution_count": 2,
   "metadata": {},
   "outputs": [],
   "source": [
    "selected_features = [\n",
    "    \"acc_now_delinq\",  # 1. Number of accounts currently delinquent\n",
    "    \"all_util\",  # 2. Balance to credit limit ratio on all trades\n",
    "    \"bc_util\",  # 3. Percentage of bankcard credit usage\n",
    "    \"delinq_2yrs\",  # 4. Number of delinquency incidents (30+ days past due) in the last 2 years\n",
    "    \"delinq_amnt\",  # 5. Total past-due amount for delinquent accounts\n",
    "    \"dti\",  # 6. Debt-to-income ratio\n",
    "    \"fico_range_high\",  # 7. Highest FICO score of the borrower\n",
    "    \"fico_range_low\",  # 8. Lowest FICO score of the borrower\n",
    "    \"int_rate\",  # 9. Interest rate of the loan\n",
    "    \"loan_status\",  # 10. Current status of the loan (e.g., charged-off, fully paid, late)\n",
    "    \"num_accts_ever_120_pd\",  # 11. Number of accounts ever 120+ days past due\n",
    "    \"num_tl_120dpd_2m\",  # 12. Number of accounts currently 120+ days past due in the last 2 months\n",
    "    \"num_tl_30dpd\",  # 13. Number of accounts currently 30+ days past due\n",
    "    \"num_tl_90g_dpd_24m\",  # 14. Number of accounts 90+ days past due in the last 24 months\n",
    "    \"mo_sin_old_il_acct\",  # 15. Months since oldest installment account opened\n",
    "    \"mo_sin_old_rev_tl_op\",  # 16. Months since oldest revolving account opened\n",
    "    \"mo_sin_rcnt_rev_tl_op\",  # 17. Months since most recent revolving account opened\n",
    "    \"mo_sin_rcnt_tl\",  # 18. Months since most recent account opened\n",
    "    \"mort_acc\",  # 19. Number of mortgage accounts\n",
    "    \"num_actv_bc_tl\",  # 20. Number of active bankcard accounts\n",
    "    \"num_actv_rev_tl\",  # 21. Number of active revolving accounts\n",
    "    \"num_bc_sats\",  # 22. Number of satisfactory bankcard accounts\n",
    "    \"num_bc_tl\",  # 23. Number of bankcard accounts\n",
    "    \"num_il_tl\",  # 24. Number of installment loan accounts\n",
    "    \"num_op_rev_tl\",  # 25. Number of open revolving accounts\n",
    "    \"num_rev_accts\",  # 26. Number of revolving accounts\n",
    "    \"num_rev_tl_bal_gt_0\",  # 27. Number of revolving trades with a balance greater than 0\n",
    "    \"revol_bal\",  # 28. Total revolving balance\n",
    "    \"revol_util\",  # 29. Revolving credit utilization percentage\n",
    "    \"total_bal_ex_mort\",  # 30. Total balance excluding mortgage\n",
    "    \"total_bc_limit\",  # 31. Total credit limit for bankcards\n",
    "    \"total_il_high_credit_limit\",  # 32. Total high credit limit for installment loans\n",
    "    \"num_sats\",  # 33. Number of satisfactory accounts\n",
    "    \"num_tl_op_past_12m\",  # 34. Number of accounts opened in the past 12 months\n",
    "    \"pct_tl_nvr_dlq\",  # 35. Percentage of trades that were never delinquent\n",
    "    \"percent_bc_gt_75\",  # 36. Percentage of bankcards with balances greater than 75% of the credit limit\n",
    "    \"total_bal_il\",  # 37. Total installment loan balance\n",
    "    \"total_rev_hi_lim\",  # 38. Total revolving high credit limit\n",
    "    \"mths_since_recent_bc_dlq\",  # 39. Months since the last delinquency on a bankcard\n",
    "    \"mths_since_recent_inq\",  # 40. Months since the last credit inquiry\n",
    "    \"mths_since_recent_revol_delinq\",  # 41. Months since the last revolving delinquency\n",
    "    \"num_rev_accts\", # 42. Number of revolving accounts\n",
    "    \"num_op_rev_tl\", # 43. The number of revolving accounts that are still open\n",
    "    \"num_actv_rev_tl\", # 44. Number of active revolving accounts\n",
    "    \"num_bc_sats\", # 45. Number of credit card accounts that are in good standing\n",
    "    \"num_tl_90g_dpd_24m\", # 46. Number of accounts that have experienced delays of more than 90 days in the last 24 months\n",
    "    \"num_tl_op_past_12m\", # 47. Number of credit accounts opened in the last 12 months\n",
    "    \"mo_sin_old_il_acct\", # 48. Length of time since the first installment account was opened\n",
    "    \"mo_sin_rcnt_tl\", # 49. Length of time since the latest credit account was opened\n",
    "    \"num_il_tl\", # 50. Number of installment accounts\n",
    "    \"num_tl_30dpd\", # 51. The number of accounts experiencing delays of more than 30 days at this time\n",
    "    \"num_tl_120dpd_2m\", # 52. Number of accounts that are more than 120 days late in the last 2 months\n",
    "    \"num_bc_tl\", # 53. Total number of credit card accounts\n",
    "]"
   ]
  },
  {
   "cell_type": "markdown",
   "metadata": {},
   "source": [
    "## 3. Filtering Feature"
   ]
  },
  {
   "cell_type": "code",
   "execution_count": 3,
   "metadata": {},
   "outputs": [
    {
     "name": "stderr",
     "output_type": "stream",
     "text": [
      "/tmp/ipykernel_6977/2217548607.py:1: DtypeWarning: Columns (137) have mixed types. Specify dtype option on import or set low_memory=False.\n",
      "  df = pd.read_csv(\"./datasets/loan_2019_20.csv\")\n"
     ]
    }
   ],
   "source": [
    "df = pd.read_csv(\"./datasets/loan_2019_20.csv\")"
   ]
  },
  {
   "cell_type": "code",
   "execution_count": 4,
   "metadata": {},
   "outputs": [
    {
     "data": {
      "text/plain": [
       "(664824, 142)"
      ]
     },
     "execution_count": 4,
     "metadata": {},
     "output_type": "execute_result"
    }
   ],
   "source": [
    "df.shape"
   ]
  },
  {
   "cell_type": "code",
   "execution_count": 5,
   "metadata": {},
   "outputs": [
    {
     "data": {
      "text/plain": [
       "(664824, 53)"
      ]
     },
     "execution_count": 5,
     "metadata": {},
     "output_type": "execute_result"
    }
   ],
   "source": [
    "df = df.loc[:,selected_features]\n",
    "df.shape"
   ]
  },
  {
   "cell_type": "code",
   "execution_count": 6,
   "metadata": {},
   "outputs": [
    {
     "data": {
      "text/plain": [
       "array(['Current', 'Fully Paid', 'Charged Off', 'Late (31-120 days)',\n",
       "       'In Grace Period', 'Late (16-30 days)', 'Default', 'Issued'],\n",
       "      dtype=object)"
      ]
     },
     "execution_count": 6,
     "metadata": {},
     "output_type": "execute_result"
    }
   ],
   "source": [
    "df['loan_status'].unique()"
   ]
  },
  {
   "cell_type": "code",
   "execution_count": 7,
   "metadata": {},
   "outputs": [
    {
     "data": {
      "text/plain": [
       "(93956, 53)"
      ]
     },
     "execution_count": 7,
     "metadata": {},
     "output_type": "execute_result"
    }
   ],
   "source": [
    "df = df[df['loan_status'] != 'Current']\n",
    "df.shape"
   ]
  },
  {
   "cell_type": "code",
   "execution_count": 8,
   "metadata": {},
   "outputs": [
    {
     "data": {
      "text/html": [
       "<div>\n",
       "<style scoped>\n",
       "    .dataframe tbody tr th:only-of-type {\n",
       "        vertical-align: middle;\n",
       "    }\n",
       "\n",
       "    .dataframe tbody tr th {\n",
       "        vertical-align: top;\n",
       "    }\n",
       "\n",
       "    .dataframe thead th {\n",
       "        text-align: right;\n",
       "    }\n",
       "</style>\n",
       "<table border=\"1\" class=\"dataframe\">\n",
       "  <thead>\n",
       "    <tr style=\"text-align: right;\">\n",
       "      <th></th>\n",
       "      <th>acc_now_delinq</th>\n",
       "      <th>all_util</th>\n",
       "      <th>bc_util</th>\n",
       "      <th>delinq_2yrs</th>\n",
       "      <th>delinq_amnt</th>\n",
       "      <th>dti</th>\n",
       "      <th>fico_range_high</th>\n",
       "      <th>fico_range_low</th>\n",
       "      <th>int_rate</th>\n",
       "      <th>loan_status</th>\n",
       "      <th>...</th>\n",
       "      <th>num_actv_rev_tl</th>\n",
       "      <th>num_bc_sats</th>\n",
       "      <th>num_tl_90g_dpd_24m</th>\n",
       "      <th>num_tl_op_past_12m</th>\n",
       "      <th>mo_sin_old_il_acct</th>\n",
       "      <th>mo_sin_rcnt_tl</th>\n",
       "      <th>num_il_tl</th>\n",
       "      <th>num_tl_30dpd</th>\n",
       "      <th>num_tl_120dpd_2m</th>\n",
       "      <th>num_bc_tl</th>\n",
       "    </tr>\n",
       "  </thead>\n",
       "  <tbody>\n",
       "    <tr>\n",
       "      <th>9</th>\n",
       "      <td>0.0</td>\n",
       "      <td>72.0</td>\n",
       "      <td>97.6</td>\n",
       "      <td>0.0</td>\n",
       "      <td>0.0</td>\n",
       "      <td>11.88</td>\n",
       "      <td>669.0</td>\n",
       "      <td>665.0</td>\n",
       "      <td>17.19%</td>\n",
       "      <td>Fully Paid</td>\n",
       "      <td>...</td>\n",
       "      <td>4.0</td>\n",
       "      <td>2.0</td>\n",
       "      <td>0.0</td>\n",
       "      <td>3.0</td>\n",
       "      <td>164.0</td>\n",
       "      <td>7.0</td>\n",
       "      <td>7.0</td>\n",
       "      <td>0.0</td>\n",
       "      <td>0.0</td>\n",
       "      <td>5.0</td>\n",
       "    </tr>\n",
       "    <tr>\n",
       "      <th>20</th>\n",
       "      <td>0.0</td>\n",
       "      <td>17.0</td>\n",
       "      <td>2.0</td>\n",
       "      <td>0.0</td>\n",
       "      <td>0.0</td>\n",
       "      <td>14.73</td>\n",
       "      <td>769.0</td>\n",
       "      <td>765.0</td>\n",
       "      <td>7.56%</td>\n",
       "      <td>Fully Paid</td>\n",
       "      <td>...</td>\n",
       "      <td>5.0</td>\n",
       "      <td>9.0</td>\n",
       "      <td>0.0</td>\n",
       "      <td>1.0</td>\n",
       "      <td>107.0</td>\n",
       "      <td>2.0</td>\n",
       "      <td>6.0</td>\n",
       "      <td>0.0</td>\n",
       "      <td>0.0</td>\n",
       "      <td>12.0</td>\n",
       "    </tr>\n",
       "    <tr>\n",
       "      <th>22</th>\n",
       "      <td>0.0</td>\n",
       "      <td>76.0</td>\n",
       "      <td>77.3</td>\n",
       "      <td>0.0</td>\n",
       "      <td>0.0</td>\n",
       "      <td>25.48</td>\n",
       "      <td>694.0</td>\n",
       "      <td>690.0</td>\n",
       "      <td>14.74%</td>\n",
       "      <td>Charged Off</td>\n",
       "      <td>...</td>\n",
       "      <td>10.0</td>\n",
       "      <td>8.0</td>\n",
       "      <td>0.0</td>\n",
       "      <td>3.0</td>\n",
       "      <td>171.0</td>\n",
       "      <td>1.0</td>\n",
       "      <td>14.0</td>\n",
       "      <td>0.0</td>\n",
       "      <td>0.0</td>\n",
       "      <td>12.0</td>\n",
       "    </tr>\n",
       "    <tr>\n",
       "      <th>31</th>\n",
       "      <td>0.0</td>\n",
       "      <td>69.0</td>\n",
       "      <td>68.8</td>\n",
       "      <td>4.0</td>\n",
       "      <td>0.0</td>\n",
       "      <td>6.46</td>\n",
       "      <td>669.0</td>\n",
       "      <td>665.0</td>\n",
       "      <td>20.00%</td>\n",
       "      <td>Fully Paid</td>\n",
       "      <td>...</td>\n",
       "      <td>4.0</td>\n",
       "      <td>4.0</td>\n",
       "      <td>3.0</td>\n",
       "      <td>0.0</td>\n",
       "      <td>NaN</td>\n",
       "      <td>27.0</td>\n",
       "      <td>0.0</td>\n",
       "      <td>0.0</td>\n",
       "      <td>0.0</td>\n",
       "      <td>7.0</td>\n",
       "    </tr>\n",
       "    <tr>\n",
       "      <th>32</th>\n",
       "      <td>0.0</td>\n",
       "      <td>40.0</td>\n",
       "      <td>26.0</td>\n",
       "      <td>0.0</td>\n",
       "      <td>0.0</td>\n",
       "      <td>17.00</td>\n",
       "      <td>734.0</td>\n",
       "      <td>730.0</td>\n",
       "      <td>12.40%</td>\n",
       "      <td>Fully Paid</td>\n",
       "      <td>...</td>\n",
       "      <td>3.0</td>\n",
       "      <td>3.0</td>\n",
       "      <td>0.0</td>\n",
       "      <td>2.0</td>\n",
       "      <td>238.0</td>\n",
       "      <td>7.0</td>\n",
       "      <td>11.0</td>\n",
       "      <td>0.0</td>\n",
       "      <td>0.0</td>\n",
       "      <td>4.0</td>\n",
       "    </tr>\n",
       "  </tbody>\n",
       "</table>\n",
       "<p>5 rows × 53 columns</p>\n",
       "</div>"
      ],
      "text/plain": [
       "    acc_now_delinq  all_util  bc_util  delinq_2yrs  delinq_amnt    dti  \\\n",
       "9              0.0      72.0     97.6          0.0          0.0  11.88   \n",
       "20             0.0      17.0      2.0          0.0          0.0  14.73   \n",
       "22             0.0      76.0     77.3          0.0          0.0  25.48   \n",
       "31             0.0      69.0     68.8          4.0          0.0   6.46   \n",
       "32             0.0      40.0     26.0          0.0          0.0  17.00   \n",
       "\n",
       "    fico_range_high  fico_range_low int_rate  loan_status  ...  \\\n",
       "9             669.0           665.0   17.19%   Fully Paid  ...   \n",
       "20            769.0           765.0    7.56%   Fully Paid  ...   \n",
       "22            694.0           690.0   14.74%  Charged Off  ...   \n",
       "31            669.0           665.0   20.00%   Fully Paid  ...   \n",
       "32            734.0           730.0   12.40%   Fully Paid  ...   \n",
       "\n",
       "    num_actv_rev_tl  num_bc_sats  num_tl_90g_dpd_24m  num_tl_op_past_12m  \\\n",
       "9               4.0          2.0                 0.0                 3.0   \n",
       "20              5.0          9.0                 0.0                 1.0   \n",
       "22             10.0          8.0                 0.0                 3.0   \n",
       "31              4.0          4.0                 3.0                 0.0   \n",
       "32              3.0          3.0                 0.0                 2.0   \n",
       "\n",
       "    mo_sin_old_il_acct  mo_sin_rcnt_tl  num_il_tl  num_tl_30dpd  \\\n",
       "9                164.0             7.0        7.0           0.0   \n",
       "20               107.0             2.0        6.0           0.0   \n",
       "22               171.0             1.0       14.0           0.0   \n",
       "31                 NaN            27.0        0.0           0.0   \n",
       "32               238.0             7.0       11.0           0.0   \n",
       "\n",
       "    num_tl_120dpd_2m  num_bc_tl  \n",
       "9                0.0        5.0  \n",
       "20               0.0       12.0  \n",
       "22               0.0       12.0  \n",
       "31               0.0        7.0  \n",
       "32               0.0        4.0  \n",
       "\n",
       "[5 rows x 53 columns]"
      ]
     },
     "execution_count": 8,
     "metadata": {},
     "output_type": "execute_result"
    }
   ],
   "source": [
    "df.head()"
   ]
  },
  {
   "cell_type": "code",
   "execution_count": 9,
   "metadata": {},
   "outputs": [],
   "source": [
    "df.to_csv('./datasets/loan_2019_20_filtered.csv', index=False)"
   ]
  },
  {
   "cell_type": "markdown",
   "metadata": {},
   "source": [
    "<p><strong>Note: </strong>The filter is done by not including loan_status with the value 'Current' because I will analyze data that has already been completed. Then I saved it into a new CSV file to make it easier in the future.</p>"
   ]
  },
  {
   "cell_type": "markdown",
   "metadata": {},
   "source": [
    "# 2. Data Preprocessing"
   ]
  },
  {
   "cell_type": "code",
   "execution_count": null,
   "metadata": {},
   "outputs": [],
   "source": []
  }
 ],
 "metadata": {
  "kernelspec": {
   "display_name": "myenv",
   "language": "python",
   "name": "python3"
  },
  "language_info": {
   "codemirror_mode": {
    "name": "ipython",
    "version": 3
   },
   "file_extension": ".py",
   "mimetype": "text/x-python",
   "name": "python",
   "nbconvert_exporter": "python",
   "pygments_lexer": "ipython3",
   "version": "3.12.3"
  }
 },
 "nbformat": 4,
 "nbformat_minor": 2
}
