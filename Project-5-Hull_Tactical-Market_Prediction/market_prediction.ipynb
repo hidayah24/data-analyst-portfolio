{
 "cells": [
  {
   "cell_type": "markdown",
   "id": "54deef56",
   "metadata": {},
   "source": [
    "<img src=\"header.png\" style=\"border-radius: 50%; display: block; margin: 0 auto; width: 200px; height: 200px;\">\n",
    "<h1>Hull Tactical - Market Prediction</h1>\n",
    "<p>Can you predict market predictability?</p>\n",
    "<h2>Overview</h2>\n",
    "<p>Your task is to predict the stock market returns as represented by the excess returns of the S&P 500 while also managing volatility constraints. Your work will test the Efficient Market Hypothesis and challenge common tenets of personal finance.</p>\n",
    "<h3>Source</h3>\n",
    "<a href=\"https://www.kaggle.com/competitions/hull-tactical-market-prediction/overview\" class=\"source-link\">Source Link</a>"
   ]
  },
  {
   "cell_type": "code",
   "execution_count": 26,
   "id": "0025b1ca",
   "metadata": {},
   "outputs": [],
   "source": [
    "import pandas as pd\n",
    "import numpy as np\n",
    "import pickle\n",
    "import seaborn as sns\n",
    "import matplotlib.pyplot as plt\n",
    "import warnings\n",
    "warnings.filterwarnings('ignore')"
   ]
  },
  {
   "cell_type": "code",
   "execution_count": 2,
   "id": "262abf9c",
   "metadata": {},
   "outputs": [
    {
     "data": {
      "text/html": [
       "<div>\n",
       "<style scoped>\n",
       "    .dataframe tbody tr th:only-of-type {\n",
       "        vertical-align: middle;\n",
       "    }\n",
       "\n",
       "    .dataframe tbody tr th {\n",
       "        vertical-align: top;\n",
       "    }\n",
       "\n",
       "    .dataframe thead th {\n",
       "        text-align: right;\n",
       "    }\n",
       "</style>\n",
       "<table border=\"1\" class=\"dataframe\">\n",
       "  <thead>\n",
       "    <tr style=\"text-align: right;\">\n",
       "      <th></th>\n",
       "      <th>date_id</th>\n",
       "      <th>D1</th>\n",
       "      <th>D2</th>\n",
       "      <th>D3</th>\n",
       "      <th>D4</th>\n",
       "      <th>D5</th>\n",
       "      <th>D6</th>\n",
       "      <th>D7</th>\n",
       "      <th>D8</th>\n",
       "      <th>D9</th>\n",
       "      <th>...</th>\n",
       "      <th>V3</th>\n",
       "      <th>V4</th>\n",
       "      <th>V5</th>\n",
       "      <th>V6</th>\n",
       "      <th>V7</th>\n",
       "      <th>V8</th>\n",
       "      <th>V9</th>\n",
       "      <th>forward_returns</th>\n",
       "      <th>risk_free_rate</th>\n",
       "      <th>market_forward_excess_returns</th>\n",
       "    </tr>\n",
       "  </thead>\n",
       "  <tbody>\n",
       "    <tr>\n",
       "      <th>0</th>\n",
       "      <td>0</td>\n",
       "      <td>0</td>\n",
       "      <td>0</td>\n",
       "      <td>0</td>\n",
       "      <td>1</td>\n",
       "      <td>1</td>\n",
       "      <td>0</td>\n",
       "      <td>0</td>\n",
       "      <td>0</td>\n",
       "      <td>1</td>\n",
       "      <td>...</td>\n",
       "      <td>NaN</td>\n",
       "      <td>NaN</td>\n",
       "      <td>NaN</td>\n",
       "      <td>NaN</td>\n",
       "      <td>NaN</td>\n",
       "      <td>NaN</td>\n",
       "      <td>NaN</td>\n",
       "      <td>-0.002421</td>\n",
       "      <td>0.000301</td>\n",
       "      <td>-0.003038</td>\n",
       "    </tr>\n",
       "    <tr>\n",
       "      <th>1</th>\n",
       "      <td>1</td>\n",
       "      <td>0</td>\n",
       "      <td>0</td>\n",
       "      <td>0</td>\n",
       "      <td>1</td>\n",
       "      <td>1</td>\n",
       "      <td>0</td>\n",
       "      <td>0</td>\n",
       "      <td>0</td>\n",
       "      <td>1</td>\n",
       "      <td>...</td>\n",
       "      <td>NaN</td>\n",
       "      <td>NaN</td>\n",
       "      <td>NaN</td>\n",
       "      <td>NaN</td>\n",
       "      <td>NaN</td>\n",
       "      <td>NaN</td>\n",
       "      <td>NaN</td>\n",
       "      <td>-0.008495</td>\n",
       "      <td>0.000303</td>\n",
       "      <td>-0.009114</td>\n",
       "    </tr>\n",
       "    <tr>\n",
       "      <th>2</th>\n",
       "      <td>2</td>\n",
       "      <td>0</td>\n",
       "      <td>0</td>\n",
       "      <td>0</td>\n",
       "      <td>1</td>\n",
       "      <td>0</td>\n",
       "      <td>0</td>\n",
       "      <td>0</td>\n",
       "      <td>0</td>\n",
       "      <td>1</td>\n",
       "      <td>...</td>\n",
       "      <td>NaN</td>\n",
       "      <td>NaN</td>\n",
       "      <td>NaN</td>\n",
       "      <td>NaN</td>\n",
       "      <td>NaN</td>\n",
       "      <td>NaN</td>\n",
       "      <td>NaN</td>\n",
       "      <td>-0.009624</td>\n",
       "      <td>0.000301</td>\n",
       "      <td>-0.010243</td>\n",
       "    </tr>\n",
       "    <tr>\n",
       "      <th>3</th>\n",
       "      <td>3</td>\n",
       "      <td>0</td>\n",
       "      <td>0</td>\n",
       "      <td>0</td>\n",
       "      <td>1</td>\n",
       "      <td>0</td>\n",
       "      <td>0</td>\n",
       "      <td>0</td>\n",
       "      <td>0</td>\n",
       "      <td>0</td>\n",
       "      <td>...</td>\n",
       "      <td>NaN</td>\n",
       "      <td>NaN</td>\n",
       "      <td>NaN</td>\n",
       "      <td>NaN</td>\n",
       "      <td>NaN</td>\n",
       "      <td>NaN</td>\n",
       "      <td>NaN</td>\n",
       "      <td>0.004662</td>\n",
       "      <td>0.000299</td>\n",
       "      <td>0.004046</td>\n",
       "    </tr>\n",
       "    <tr>\n",
       "      <th>4</th>\n",
       "      <td>4</td>\n",
       "      <td>0</td>\n",
       "      <td>0</td>\n",
       "      <td>0</td>\n",
       "      <td>1</td>\n",
       "      <td>0</td>\n",
       "      <td>0</td>\n",
       "      <td>0</td>\n",
       "      <td>0</td>\n",
       "      <td>0</td>\n",
       "      <td>...</td>\n",
       "      <td>NaN</td>\n",
       "      <td>NaN</td>\n",
       "      <td>NaN</td>\n",
       "      <td>NaN</td>\n",
       "      <td>NaN</td>\n",
       "      <td>NaN</td>\n",
       "      <td>NaN</td>\n",
       "      <td>-0.011686</td>\n",
       "      <td>0.000299</td>\n",
       "      <td>-0.012301</td>\n",
       "    </tr>\n",
       "    <tr>\n",
       "      <th>...</th>\n",
       "      <td>...</td>\n",
       "      <td>...</td>\n",
       "      <td>...</td>\n",
       "      <td>...</td>\n",
       "      <td>...</td>\n",
       "      <td>...</td>\n",
       "      <td>...</td>\n",
       "      <td>...</td>\n",
       "      <td>...</td>\n",
       "      <td>...</td>\n",
       "      <td>...</td>\n",
       "      <td>...</td>\n",
       "      <td>...</td>\n",
       "      <td>...</td>\n",
       "      <td>...</td>\n",
       "      <td>...</td>\n",
       "      <td>...</td>\n",
       "      <td>...</td>\n",
       "      <td>...</td>\n",
       "      <td>...</td>\n",
       "      <td>...</td>\n",
       "    </tr>\n",
       "    <tr>\n",
       "      <th>8985</th>\n",
       "      <td>8985</td>\n",
       "      <td>0</td>\n",
       "      <td>0</td>\n",
       "      <td>0</td>\n",
       "      <td>0</td>\n",
       "      <td>0</td>\n",
       "      <td>0</td>\n",
       "      <td>0</td>\n",
       "      <td>0</td>\n",
       "      <td>0</td>\n",
       "      <td>...</td>\n",
       "      <td>0.469577</td>\n",
       "      <td>0.837963</td>\n",
       "      <td>1.226772</td>\n",
       "      <td>0.822751</td>\n",
       "      <td>-0.707361</td>\n",
       "      <td>0.142857</td>\n",
       "      <td>-0.649616</td>\n",
       "      <td>0.002457</td>\n",
       "      <td>0.000155</td>\n",
       "      <td>0.001990</td>\n",
       "    </tr>\n",
       "    <tr>\n",
       "      <th>8986</th>\n",
       "      <td>8986</td>\n",
       "      <td>0</td>\n",
       "      <td>0</td>\n",
       "      <td>0</td>\n",
       "      <td>0</td>\n",
       "      <td>0</td>\n",
       "      <td>0</td>\n",
       "      <td>0</td>\n",
       "      <td>0</td>\n",
       "      <td>0</td>\n",
       "      <td>...</td>\n",
       "      <td>0.671958</td>\n",
       "      <td>0.837963</td>\n",
       "      <td>0.785877</td>\n",
       "      <td>0.805556</td>\n",
       "      <td>-0.715692</td>\n",
       "      <td>0.196098</td>\n",
       "      <td>-0.668289</td>\n",
       "      <td>0.002312</td>\n",
       "      <td>0.000156</td>\n",
       "      <td>0.001845</td>\n",
       "    </tr>\n",
       "    <tr>\n",
       "      <th>8987</th>\n",
       "      <td>8987</td>\n",
       "      <td>0</td>\n",
       "      <td>0</td>\n",
       "      <td>1</td>\n",
       "      <td>0</td>\n",
       "      <td>0</td>\n",
       "      <td>0</td>\n",
       "      <td>0</td>\n",
       "      <td>0</td>\n",
       "      <td>0</td>\n",
       "      <td>...</td>\n",
       "      <td>0.481481</td>\n",
       "      <td>0.787698</td>\n",
       "      <td>0.834898</td>\n",
       "      <td>0.823413</td>\n",
       "      <td>-0.723949</td>\n",
       "      <td>0.133929</td>\n",
       "      <td>-0.670946</td>\n",
       "      <td>0.002891</td>\n",
       "      <td>0.000156</td>\n",
       "      <td>0.002424</td>\n",
       "    </tr>\n",
       "    <tr>\n",
       "      <th>8988</th>\n",
       "      <td>8988</td>\n",
       "      <td>0</td>\n",
       "      <td>0</td>\n",
       "      <td>0</td>\n",
       "      <td>0</td>\n",
       "      <td>0</td>\n",
       "      <td>0</td>\n",
       "      <td>0</td>\n",
       "      <td>0</td>\n",
       "      <td>0</td>\n",
       "      <td>...</td>\n",
       "      <td>0.655423</td>\n",
       "      <td>0.783730</td>\n",
       "      <td>0.994026</td>\n",
       "      <td>0.851852</td>\n",
       "      <td>-0.684937</td>\n",
       "      <td>0.101852</td>\n",
       "      <td>-0.646265</td>\n",
       "      <td>0.008310</td>\n",
       "      <td>0.000156</td>\n",
       "      <td>0.007843</td>\n",
       "    </tr>\n",
       "    <tr>\n",
       "      <th>8989</th>\n",
       "      <td>8989</td>\n",
       "      <td>0</td>\n",
       "      <td>0</td>\n",
       "      <td>0</td>\n",
       "      <td>0</td>\n",
       "      <td>0</td>\n",
       "      <td>0</td>\n",
       "      <td>0</td>\n",
       "      <td>0</td>\n",
       "      <td>0</td>\n",
       "      <td>...</td>\n",
       "      <td>0.066799</td>\n",
       "      <td>0.783730</td>\n",
       "      <td>1.068037</td>\n",
       "      <td>0.879630</td>\n",
       "      <td>-0.764806</td>\n",
       "      <td>0.079034</td>\n",
       "      <td>-0.705662</td>\n",
       "      <td>0.000099</td>\n",
       "      <td>0.000156</td>\n",
       "      <td>-0.000368</td>\n",
       "    </tr>\n",
       "  </tbody>\n",
       "</table>\n",
       "<p>8990 rows × 98 columns</p>\n",
       "</div>"
      ],
      "text/plain": [
       "      date_id  D1  D2  D3  D4  D5  D6  D7  D8  D9  ...        V3        V4  \\\n",
       "0           0   0   0   0   1   1   0   0   0   1  ...       NaN       NaN   \n",
       "1           1   0   0   0   1   1   0   0   0   1  ...       NaN       NaN   \n",
       "2           2   0   0   0   1   0   0   0   0   1  ...       NaN       NaN   \n",
       "3           3   0   0   0   1   0   0   0   0   0  ...       NaN       NaN   \n",
       "4           4   0   0   0   1   0   0   0   0   0  ...       NaN       NaN   \n",
       "...       ...  ..  ..  ..  ..  ..  ..  ..  ..  ..  ...       ...       ...   \n",
       "8985     8985   0   0   0   0   0   0   0   0   0  ...  0.469577  0.837963   \n",
       "8986     8986   0   0   0   0   0   0   0   0   0  ...  0.671958  0.837963   \n",
       "8987     8987   0   0   1   0   0   0   0   0   0  ...  0.481481  0.787698   \n",
       "8988     8988   0   0   0   0   0   0   0   0   0  ...  0.655423  0.783730   \n",
       "8989     8989   0   0   0   0   0   0   0   0   0  ...  0.066799  0.783730   \n",
       "\n",
       "            V5        V6        V7        V8        V9  forward_returns  \\\n",
       "0          NaN       NaN       NaN       NaN       NaN        -0.002421   \n",
       "1          NaN       NaN       NaN       NaN       NaN        -0.008495   \n",
       "2          NaN       NaN       NaN       NaN       NaN        -0.009624   \n",
       "3          NaN       NaN       NaN       NaN       NaN         0.004662   \n",
       "4          NaN       NaN       NaN       NaN       NaN        -0.011686   \n",
       "...        ...       ...       ...       ...       ...              ...   \n",
       "8985  1.226772  0.822751 -0.707361  0.142857 -0.649616         0.002457   \n",
       "8986  0.785877  0.805556 -0.715692  0.196098 -0.668289         0.002312   \n",
       "8987  0.834898  0.823413 -0.723949  0.133929 -0.670946         0.002891   \n",
       "8988  0.994026  0.851852 -0.684937  0.101852 -0.646265         0.008310   \n",
       "8989  1.068037  0.879630 -0.764806  0.079034 -0.705662         0.000099   \n",
       "\n",
       "      risk_free_rate  market_forward_excess_returns  \n",
       "0           0.000301                      -0.003038  \n",
       "1           0.000303                      -0.009114  \n",
       "2           0.000301                      -0.010243  \n",
       "3           0.000299                       0.004046  \n",
       "4           0.000299                      -0.012301  \n",
       "...              ...                            ...  \n",
       "8985        0.000155                       0.001990  \n",
       "8986        0.000156                       0.001845  \n",
       "8987        0.000156                       0.002424  \n",
       "8988        0.000156                       0.007843  \n",
       "8989        0.000156                      -0.000368  \n",
       "\n",
       "[8990 rows x 98 columns]"
      ]
     },
     "execution_count": 2,
     "metadata": {},
     "output_type": "execute_result"
    }
   ],
   "source": [
    "df = pd.read_csv('datasets/train.csv')\n",
    "df"
   ]
  },
  {
   "cell_type": "markdown",
   "id": "5cc478c9",
   "metadata": {},
   "source": [
    "# 1. Data Cleaning"
   ]
  },
  {
   "cell_type": "code",
   "execution_count": 3,
   "id": "88dd48d4",
   "metadata": {},
   "outputs": [
    {
     "data": {
      "text/plain": [
       "(8990, 98)"
      ]
     },
     "execution_count": 3,
     "metadata": {},
     "output_type": "execute_result"
    }
   ],
   "source": [
    "df.shape"
   ]
  },
  {
   "cell_type": "code",
   "execution_count": 4,
   "id": "0d4ad345",
   "metadata": {},
   "outputs": [
    {
     "data": {
      "text/plain": [
       "Index(['date_id', 'D1', 'D2', 'D3', 'D4', 'D5', 'D6', 'D7', 'D8', 'D9', 'E1',\n",
       "       'E10', 'E11', 'E12', 'E13', 'E14', 'E15', 'E16', 'E17', 'E18', 'E19',\n",
       "       'E2', 'E20', 'E3', 'E4', 'E5', 'E6', 'E7', 'E8', 'E9', 'I1', 'I2', 'I3',\n",
       "       'I4', 'I5', 'I6', 'I7', 'I8', 'I9', 'M1', 'M10', 'M11', 'M12', 'M13',\n",
       "       'M14', 'M15', 'M16', 'M17', 'M18', 'M2', 'M3', 'M4', 'M5', 'M6', 'M7',\n",
       "       'M8', 'M9', 'P1', 'P10', 'P11', 'P12', 'P13', 'P2', 'P3', 'P4', 'P5',\n",
       "       'P6', 'P7', 'P8', 'P9', 'S1', 'S10', 'S11', 'S12', 'S2', 'S3', 'S4',\n",
       "       'S5', 'S6', 'S7', 'S8', 'S9', 'V1', 'V10', 'V11', 'V12', 'V13', 'V2',\n",
       "       'V3', 'V4', 'V5', 'V6', 'V7', 'V8', 'V9', 'forward_returns',\n",
       "       'risk_free_rate', 'market_forward_excess_returns'],\n",
       "      dtype='object')"
      ]
     },
     "execution_count": 4,
     "metadata": {},
     "output_type": "execute_result"
    }
   ],
   "source": [
    "df.columns"
   ]
  },
  {
   "cell_type": "markdown",
   "id": "de1ac48a",
   "metadata": {},
   "source": [
    "## 1. Missing Data"
   ]
  },
  {
   "cell_type": "code",
   "execution_count": 22,
   "id": "6f71801e",
   "metadata": {},
   "outputs": [
    {
     "data": {
      "text/plain": [
       "E1     1784\n",
       "E10    1006\n",
       "E11    1006\n",
       "E12    1006\n",
       "E13    1006\n",
       "       ... \n",
       "V5     1512\n",
       "V6     1006\n",
       "V7     1511\n",
       "V8     1006\n",
       "V9     4539\n",
       "Length: 85, dtype: int64"
      ]
     },
     "execution_count": 22,
     "metadata": {},
     "output_type": "execute_result"
    }
   ],
   "source": [
    "df.isna().sum()[df.isna().sum() > 0]\n"
   ]
  },
  {
   "cell_type": "code",
   "execution_count": 23,
   "id": "f0a1772a",
   "metadata": {},
   "outputs": [
    {
     "data": {
      "text/plain": [
       "date_id                          0\n",
       "D1                               0\n",
       "D2                               0\n",
       "D3                               0\n",
       "D4                               0\n",
       "                                ..\n",
       "V8                               0\n",
       "V9                               0\n",
       "forward_returns                  0\n",
       "risk_free_rate                   0\n",
       "market_forward_excess_returns    0\n",
       "Length: 98, dtype: int64"
      ]
     },
     "execution_count": 23,
     "metadata": {},
     "output_type": "execute_result"
    }
   ],
   "source": [
    "df.fillna(0, inplace=True)\n",
    "df.isna().sum()"
   ]
  },
  {
   "cell_type": "markdown",
   "id": "a178a489",
   "metadata": {},
   "source": [
    "## 2. Data Type"
   ]
  },
  {
   "cell_type": "code",
   "execution_count": 24,
   "id": "2fb09f49",
   "metadata": {},
   "outputs": [
    {
     "data": {
      "text/plain": [
       "date_id                            int64\n",
       "D1                                 int64\n",
       "D2                                 int64\n",
       "D3                                 int64\n",
       "D4                                 int64\n",
       "                                  ...   \n",
       "V8                               float64\n",
       "V9                               float64\n",
       "forward_returns                  float64\n",
       "risk_free_rate                   float64\n",
       "market_forward_excess_returns    float64\n",
       "Length: 98, dtype: object"
      ]
     },
     "execution_count": 24,
     "metadata": {},
     "output_type": "execute_result"
    }
   ],
   "source": [
    "df.dtypes"
   ]
  },
  {
   "cell_type": "code",
   "execution_count": 25,
   "id": "13712dc2",
   "metadata": {},
   "outputs": [
    {
     "data": {
      "text/plain": [
       "np.False_"
      ]
     },
     "execution_count": 25,
     "metadata": {},
     "output_type": "execute_result"
    }
   ],
   "source": [
    "(df.dtypes == 'object').any()"
   ]
  },
  {
   "cell_type": "code",
   "execution_count": 27,
   "id": "ca8940ea",
   "metadata": {},
   "outputs": [],
   "source": [
    "df.to_pickle('datasets/train_cleaned.pkl')"
   ]
  },
  {
   "cell_type": "markdown",
   "id": "b801f900",
   "metadata": {},
   "source": [
    "# 2. Data Analyst"
   ]
  },
  {
   "cell_type": "code",
   "execution_count": null,
   "id": "a89868c8",
   "metadata": {},
   "outputs": [],
   "source": []
  }
 ],
 "metadata": {
  "kernelspec": {
   "display_name": "Python (myenv)",
   "language": "python",
   "name": "myenv"
  },
  "language_info": {
   "codemirror_mode": {
    "name": "ipython",
    "version": 3
   },
   "file_extension": ".py",
   "mimetype": "text/x-python",
   "name": "python",
   "nbconvert_exporter": "python",
   "pygments_lexer": "ipython3",
   "version": "3.12.3"
  }
 },
 "nbformat": 4,
 "nbformat_minor": 5
}
