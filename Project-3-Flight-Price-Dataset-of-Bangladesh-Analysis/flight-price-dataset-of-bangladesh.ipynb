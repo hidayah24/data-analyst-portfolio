{
 "cells": [
  {
   "cell_type": "markdown",
   "metadata": {},
   "source": [
    "<h1>Flight Price Dataset of Bangladesh</h1>\n",
    "<p>This dataset was inspired by real-world flight data from Bangladesh</p>\n",
    "<h2>About Dataset</h2>\n",
    "<h3>Introduction</h3>\n",
    "<p>The \"Bangladesh Flight Fare Dataset\" is a synthetic dataset comprising 57,000 flight records tailored to represent air travel scenarios originating from Bangladesh. This dataset simulates realistic flight fare dynamics, capturing key factors such as airline operations, airport specifics, travel classes, booking behaviors, and seasonal variations specific to Bangladesh’s aviation market. It is designed for researchers, data scientists, and analysts interested in flight fare prediction, travel pattern analysis, or machine learning/deep learning applications. By combining real-world inspired statistical distributions and aviation industry standards, this dataset provides a robust foundation for exploring flight economics in a South Asian context.</p>\n",
    "<h3>Dataset Purpose</h3>\n",
    "<p>This dataset aims to:</p>\n",
    "<ul>\n",
    "<li>Facilitate predictive modeling of flight fares, with \"Total Fare (BDT)\" as the primary target variable.</li>\n",
    "<li>Enable analysis of travel trends, including the impact of cultural festivals (e.g., Eid, Hajj) and booking timings on pricing.</li>\n",
    "<li>Serve as a training resource for machine learning (ML) and deep learning (DL) models, with sufficient sample size (50,000) and feature diversity for generalization.</li>\n",
    "<li>Provide a realistic yet synthetic representation of Bangladesh’s air travel ecosystem, blending domestic and international flight scenarios.</li>\n",
    "</ul>\n",
    "<h2>Data Source</h2>\n",
    "<h3>Kaggle</h3>\n",
    "<p><a href=\"https://www.kaggle.com/datasets/mahatiratusher/flight-price-dataset-of-bangladesh\">Flight Price Dataset of Bangladesh</a></p>"
   ]
  },
  {
   "cell_type": "code",
   "execution_count": 1,
   "metadata": {},
   "outputs": [],
   "source": [
    "import pandas as pd\n",
    "import numpy as np\n",
    "import matplotlib.pyplot as plt\n",
    "import seaborn as sns\n",
    "import warnings\n",
    "warnings.filterwarnings('ignore')"
   ]
  }
 ],
 "metadata": {
  "kernelspec": {
   "display_name": "myenv",
   "language": "python",
   "name": "python3"
  },
  "language_info": {
   "codemirror_mode": {
    "name": "ipython",
    "version": 3
   },
   "file_extension": ".py",
   "mimetype": "text/x-python",
   "name": "python",
   "nbconvert_exporter": "python",
   "pygments_lexer": "ipython3",
   "version": "3.12.3"
  }
 },
 "nbformat": 4,
 "nbformat_minor": 2
}
