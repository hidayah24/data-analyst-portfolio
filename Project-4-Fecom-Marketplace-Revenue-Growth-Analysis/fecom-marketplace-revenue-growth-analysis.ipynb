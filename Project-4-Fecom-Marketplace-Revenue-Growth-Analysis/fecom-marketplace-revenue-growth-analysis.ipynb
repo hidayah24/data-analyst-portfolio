{
 "cells": [
  {
   "cell_type": "markdown",
   "metadata": {},
   "source": [
    "<img src=\"project4-logo.png\" alt=\"Logo\" style=\"border-radius: 50%; width: 150px; height: 150px; object-fit: cover; margin: auto; display: block;\">\n",
    "<center><h1>Fecom Marketplace Revenue Growth Analysis</h1></center>\n",
    "<h2>Fecom Inc. (e-Com Marketplace Orders Data)</h2>\n",
    "<p>A suitable data for CRM & Sales Opportunities & Marketing analytics practice.</p>\n",
    "<h2>About Dataset</h2>\n",
    "<p>Welcome to the Fecom Inc.! <br>\n",
    "Fecom Inc. is a fictional e-commerce marketplace company based in Berlin, Germany. Between 2022 and 2024, it recorded 99,441 orders from 102,727 unique customers and tracked all commercial transactions of 3,095 sellers.<br>\n",
    "This dataset contains commercial data across 338 cities in 28 countries and includes various details about customers and orders, allowing for CRM, sales opportunity, or marketing analysis. The data includes order dates, delivery dates, cart values, shipping costs, order reviews and ratings, payment methods and much more.<br>\n",
    "Since the marketplace is not limited to a specific product, it features 32,951 distinct products across 72 different categories.</p>\n",
    "<img src=\"data-structure.png\" alt=\"Data Structure\" width=\"40%\" height=\"40%\">\n"
   ]
  },
  {
   "cell_type": "markdown",
   "metadata": {},
   "source": [
    "<h2>Data Source</h2>\n",
    "<h3>Kaggle</h3>\n",
    "<a href=\"https://www.kaggle.com/datasets/cemeraan/fecom-inc-e-com-marketplace-orders-data-crm/\">Click Here!!!</a>"
   ]
  },
  {
   "cell_type": "code",
   "execution_count": 1,
   "metadata": {},
   "outputs": [],
   "source": [
    "import pandas as pd"
   ]
  }
 ],
 "metadata": {
  "kernelspec": {
   "display_name": "Python (myenv)",
   "language": "python",
   "name": "myenv"
  },
  "language_info": {
   "codemirror_mode": {
    "name": "ipython",
    "version": 3
   },
   "file_extension": ".py",
   "mimetype": "text/x-python",
   "name": "python",
   "nbconvert_exporter": "python",
   "pygments_lexer": "ipython3",
   "version": "3.12.3"
  }
 },
 "nbformat": 4,
 "nbformat_minor": 2
}
